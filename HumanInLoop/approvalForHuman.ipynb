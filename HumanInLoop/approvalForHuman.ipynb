{
  "cells": [
    {
      "cell_type": "code",
      "source": [
        "!pip install langgraph\n",
        "!pip install langchain_groq\n",
        "!pip install langchain_community"
      ],
      "metadata": {
        "id": "cnypezu8x3Sa"
      },
      "execution_count": null,
      "outputs": []
    },
    {
      "cell_type": "code",
      "execution_count": 13,
      "metadata": {
        "id": "vcsLRkOewvXI"
      },
      "outputs": [],
      "source": [
        "from langgraph.graph import StateGraph, START, END, add_messages\n",
        "from typing import TypedDict, Annotated, List\n",
        "from langgraph.checkpoint.memory import MemorySaver\n",
        "from langchain_groq import ChatGroq\n",
        "from langchain_community.tools import TavilySearchResults\n",
        "from langgraph.prebuilt import ToolNode\n",
        "from langchain_core.messages import HumanMessage\n",
        "\n",
        "memory = MemorySaver()\n",
        "\n",
        "import os\n",
        "\n",
        "os.environ[\"TAVILY_API_KEY\"] = \"\"\n",
        "\n",
        "os.environ[\"GROQ_API_KEY\"] = \"\"\n",
        "\n",
        "search_tool = TavilySearchResults(max_results=2)\n",
        "tools = [search_tool]\n",
        "\n",
        "llm = ChatGroq(model=\"llama-3.1-8b-instant\")\n",
        "llm_with_tools = llm.bind_tools(tools=tools)\n",
        "\n",
        "class BasicState(TypedDict):\n",
        "    messages: Annotated[List, add_messages]\n",
        "\n",
        "def model(state: BasicState):\n",
        "    return {\n",
        "        \"messages\": [llm_with_tools.invoke(state[\"messages\"])]\n",
        "    }\n",
        "\n",
        "def tools_router(state: BasicState):\n",
        "    last_message = state[\"messages\"][-1]\n",
        "    if(hasattr(last_message, \"tool_calls\") and\n",
        "    len(last_message.tool_calls) > 0):\n",
        "        return \"tools\"\n",
        "    else:\n",
        "        return END\n",
        "\n",
        "\n",
        "graph = StateGraph(BasicState)\n",
        "graph.add_node(model, \"model\")\n",
        "graph.add_node(\"tools\", ToolNode(tools=tools))\n",
        "\n",
        "graph.set_entry_point(\"model\")\n",
        "graph.add_conditional_edges(\"model\", tools_router)\n",
        "\n",
        "graph.add_edge(\"tools\", \"model\")\n",
        "\n",
        "app = graph.compile(checkpointer=memory, interrupt_before=[\"tools\"])"
      ]
    },
    {
      "cell_type": "code",
      "execution_count": 14,
      "metadata": {
        "id": "qJUEvJUPwvXK",
        "colab": {
          "base_uri": "https://localhost:8080/",
          "height": 323
        },
        "outputId": "3a164c2e-29d0-4786-9637-79ab1794690e"
      },
      "outputs": [
        {
          "output_type": "display_data",
          "data": {
            "image/png": "[encoded data removed]",
            "text/plain": [
              "<IPython.core.display.Image object>"
            ]
          },
          "metadata": {}
        }
      ],
      "source": [
        "from IPython.display import Image, display\n",
        "\n",
        "display(Image(app.get_graph().draw_mermaid_png()))"
      ]
    },
    {
      "cell_type": "code",
      "execution_count": 16,
      "metadata": {
        "id": "4JE8IvLRwvXL",
        "colab": {
          "base_uri": "https://localhost:8080/"
        },
        "outputId": "99d3dd2c-08f8-4584-b200-4b5ddb671bb5"
      },
      "outputs": [
        {
          "output_type": "stream",
          "name": "stdout",
          "text": [
            "================================\u001b[1m Human Message \u001b[0m=================================\n",
            "\n",
            "Who is primeMinister of Nepal?\n",
            "==================================\u001b[1m Ai Message \u001b[0m==================================\n",
            "Tool Calls:\n",
            "  tavily_search_results_json (call_ny8r)\n",
            " Call ID: call_ny8r\n",
            "  Args:\n",
            "    query: Nepal prime Minister\n"
          ]
        }
      ],
      "source": [
        "\n",
        "config = {\"configurable\": {\n",
        "    \"thread_id\": 1\n",
        "}}\n",
        "\n",
        "events = app.stream({\n",
        "    \"messages\": [HumanMessage(content=\"Who is primeMinister of Nepal?\")]\n",
        "}, config=config, stream_mode=\"values\")\n",
        "\n",
        "for event in events:\n",
        "    event[\"messages\"][-1].pretty_print()"
      ]
    },
    {
      "cell_type": "markdown",
      "source": [
        "# Approve Section"
      ],
      "metadata": {
        "id": "szUHCXAczeA5"
      }
    },
    {
      "cell_type": "code",
      "execution_count": 17,
      "metadata": {
        "id": "Z_uIuMvEwvXL",
        "colab": {
          "base_uri": "https://localhost:8080/"
        },
        "outputId": "ac1142cb-b36e-4e32-9549-d93ea708c9b0"
      },
      "outputs": [
        {
          "output_type": "execute_result",
          "data": {
            "text/plain": [
              "('tools',)"
            ]
          },
          "metadata": {},
          "execution_count": 17
        }
      ],
      "source": [
        "snapshot = app.get_state(config=config)\n",
        "snapshot.next"
      ]
    },
    {
      "cell_type": "markdown",
      "source": [
        "# Again To LLM"
      ],
      "metadata": {
        "id": "WzwwN6TXzUZg"
      }
    },
    {
      "cell_type": "code",
      "execution_count": 18,
      "metadata": {
        "id": "ZvWKaMC7wvXL",
        "colab": {
          "base_uri": "https://localhost:8080/"
        },
        "outputId": "f76caeb8-9315-4bd3-adab-7449f6e9af68"
      },
      "outputs": [
        {
          "output_type": "stream",
          "name": "stdout",
          "text": [
            "==================================\u001b[1m Ai Message \u001b[0m==================================\n",
            "Tool Calls:\n",
            "  tavily_search_results_json (call_ny8r)\n",
            " Call ID: call_ny8r\n",
            "  Args:\n",
            "    query: Nepal prime Minister\n",
            "=================================\u001b[1m Tool Message \u001b[0m=================================\n",
            "Name: tavily_search_results_json\n",
            "\n",
            "[{\"title\": \"Prime Minister of Nepal - Wikipedia\", \"url\": \"https://en.wikipedia.org/wiki/Prime_Minister_of_Nepal\", \"content\": \"Jump to content\\nMain menu\\nSearch\\nDonate\\nCreate account\\nLog in\\nPersonal tools\\nToggle the table of contents\\nPrime Minister of Nepal\\n17 languages\\nArticle\\nTalk\\nRead\\nEdit\\nView history\\nTools\\nFrom Wikipedia, the free encyclopedia\\nFor list of prime ministers, see List of prime ministers of Nepal.\\nPrime Minister of the Federal Democratic Republic of Nepal\\nनेपालको प्रधानमन्त्री\\nEmblem of Nepal\\nFlag of Nepal\\nIncumbent\\nK. P. Sharma Oli\\nsince 15 July 2024[1]\\nStyle   The Right Honourable [...] The residence of the prime minister is in Baluwatar, Kathmandu.[2][3] The seat of the prime minister is Singha Darbar since the time of Chandra Shamsher Jung Bahadur Rana.[4] The incumbent prime minister is KP Sharma Oli of the CPN (UML), in office since 15 July 2024. He was appointed by the President Ram Chandra Poudel as per Article 76(2) of the Constitution of Nepal.[5]\\nIntroduction[edit] [...] Nepal portal\\nOther countries\\nvte\\nThe prime minister of Nepal (Nepali: नेपालको प्रधानमन्त्री, romanized: Nēpālakō pradhānamantrī) is the head of government of Nepal. Together with their Council of ministers, The prime minister exercises executive power in the country. The prime minister must enjoy the confidence in the Pratinidhi Sabha before being appointed by the president and shall resign if they are unable to retain the majority in the House.\", \"score\": 0.93309647}, {\"title\": \"K. P. Sharma Oli - Wikipedia\", \"url\": \"https://en.wikipedia.org/wiki/K._P._Sharma_Oli\", \"content\": \"What links here\\nRelated changes\\nUpload file\\nSpecial pages\\nPermanent link\\nPage information\\nCite this page\\nGet shortened URL\\nDownload QR code\\n\\nPrint/export\\n\\nDownload as PDF\\nPrintable version\\n\\nIn other projects\\n\\nWikimedia Commons\\nWikidata item\\n\\nAppearance\\nmove to sidebar hide\\nFrom Wikipedia, the free encyclopedia\\nPrime Minister of Nepal (2015–2016; 2018–2021; since 2024)\\nThe Right Honourable\\nKP Sharma Oli\\nके.पी. शर्मा ओली [...] Website\\nkpsharmaoli.com.np\\nKhadga Prasad Sharma Oli (Nepali: खड्ग प्रसाद शर्मा ओली), commonly known as K. P. Sharma Oli or simply K.P. Oli (English pronunciation: /ˈkeɪ ˈpi ʃɑːrmə oʊliː/ⓘ, pronounced [ˈkʰʌɽɡʌprʌsad̪ ˈoli]; born 22 February 1952, Iwa, Kingdom of Nepal),[3] is a Nepalese politician who is serving as the prime minister of Nepal since 15 July 2024. [...] ^ Sharma, Bhadra (24 July 2016). \\\"Nepal's Prime Minister, K. P. Sharma Oli, Resigns Ahead of a No-Confidence Vote\\\". The New York Times. Archived from the original on 17 February 2018. Retrieved 16 February 2018.\\n^ \\\"Prime Minister Oli resigns\\\". kathmandupost.com. Archived from the original on 6 January 2023. Retrieved 13 January 2023.\\n^ \\\"CPN-UML and CPN-Maoist Centre form alliance in Nepal\\\". hindustantimes.com/. 3 October 2017. Retrieved 18 April 2018.\", \"score\": 0.92260116}]\n",
            "==================================\u001b[1m Ai Message \u001b[0m==================================\n",
            "Tool Calls:\n",
            "  tavily_search_results_json (call_9fx1)\n",
            " Call ID: call_9fx1\n",
            "  Args:\n",
            "    query: current Prime Minister of Nepal\n"
          ]
        }
      ],
      "source": [
        "events = app.stream(None, config, stream_mode=\"values\")\n",
        "for event in events:\n",
        "    event[\"messages\"][-1].pretty_print()"
      ]
    }
  ],
  "metadata": {
    "kernelspec": {
      "display_name": "venv",
      "language": "python",
      "name": "python3"
    },
    "language_info": {
      "codemirror_mode": {
        "name": "ipython",
        "version": 3
      },
      "file_extension": ".py",
      "mimetype": "text/x-python",
      "name": "python",
      "nbconvert_exporter": "python",
      "pygments_lexer": "ipython3",
      "version": "3.12.0"
    },
    "colab": {
      "provenance": []
    }
  },
  "nbformat": 4,
  "nbformat_minor": 0
}