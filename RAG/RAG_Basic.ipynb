{
  "cells": [
    {
      "cell_type": "code",
      "execution_count": null,
      "metadata": {},
      "outputs": [],
      "source": [
        "!pip install langchain langchain-google-genai chromadb google-generativeai"
      ]
    },
    {
      "cell_type": "code",
      "execution_count": 2,
      "metadata": {
        "id": "yiZB8ySs-D3Q"
      },
      "outputs": [
        {
          "name": "stderr",
          "output_type": "stream",
          "text": [
            "/Users/prajwol/Documents/travories-geolocation/LangGraph/venv/lib/python3.13/site-packages/tqdm/auto.py:21: TqdmWarning: IProgress not found. Please update jupyter and ipywidgets. See https://ipywidgets.readthedocs.io/en/stable/user_install.html\n",
            "  from .autonotebook import tqdm as notebook_tqdm\n"
          ]
        }
      ],
      "source": [
        "from langchain.schema import Document\n",
        "from langchain_google_genai import GoogleGenerativeAIEmbeddings\n",
        "from langchain_community.vectorstores import Chroma\n",
        "\n",
        "gemini_embeddings = GoogleGenerativeAIEmbeddings(model=\"models/embedding-001\")\n",
        "\n",
        "docs_travel = [\n",
        "    Document(\n",
        "        page_content=\"Travories is a travel booking platform where travel agencies can create and list their tour packages. Tourists can browse and book these packages directly through the platform. Travories aims to connect travelers with a wide variety of curated travel experiences.\",\n",
        "        metadata={\"source\": \"overview.txt\"}\n",
        "    ),\n",
        "    Document(\n",
        "        page_content=\"Travories is accessible 24 hours a day, 7 days a week, allowing both agencies and tourists to use the platform at their convenience, regardless of their time zone.\",\n",
        "        metadata={\"source\": \"availability.txt\"}\n",
        "    ),\n",
        "    Document(\n",
        "        page_content=\"Travel agencies on Travories have the ability to create detailed descriptions of their tour packages, including itineraries, pricing, inclusions, and stunning visuals. They manage their own listings and availability.\",\n",
        "        metadata={\"source\": \"agency_features.txt\"}\n",
        "    ),\n",
        "    Document(\n",
        "        page_content=\"Tourists using Travories can search for travel packages based on destination, interests, duration, and budget. They can view package details, read reviews (if available), and securely book their chosen tours through the platform.\",\n",
        "        metadata={\"source\": \"tourist_features.txt\"}\n",
        "    ),\n",
        "    Document(\n",
        "        page_content=\"For any inquiries or support, users can contact Travories customer support via email at support@travories.com or through the live chat feature available on the website and mobile app.\",\n",
        "        metadata={\"source\": \"support.txt\"}\n",
        "    ),\n",
        "    Document(\n",
        "        page_content=\"Travories supports various payment methods, including major credit cards, debit cards, and popular online payment gateways, ensuring a seamless booking experience for tourists worldwide.\",\n",
        "        metadata={\"source\": \"payment.txt\"}\n",
        "    ),\n",
        "]\n",
        "\n",
        "# Create the Chroma vector store using Gemini embeddings\n",
        "db_gemini = Chroma.from_documents(docs_travel, gemini_embeddings)"
      ]
    },
    {
      "cell_type": "code",
      "execution_count": 3,
      "metadata": {
        "id": "D8k43zl4AgFM"
      },
      "outputs": [],
      "source": [
        "retriever = db_gemini.as_retriever(search_type=\"similarity\", search_kwargs={\"k\": 5})"
      ]
    },
    {
      "cell_type": "code",
      "execution_count": 4,
      "metadata": {
        "colab": {
          "base_uri": "https://localhost:8080/"
        },
        "id": "eaZo3-KqA8YF",
        "outputId": "53283fad-d569-46fd-97b2-d7115d290d40"
      },
      "outputs": [
        {
          "name": "stdout",
          "output_type": "stream",
          "text": [
            "input_variables=['context', 'question'] input_types={} partial_variables={} messages=[HumanMessagePromptTemplate(prompt=PromptTemplate(input_variables=['context', 'question'], input_types={}, partial_variables={}, template='\\nAnswer the question based only on the following context: {context}\\nQuestion: {question}\\n'), additional_kwargs={})]\n"
          ]
        }
      ],
      "source": [
        "from langchain_core.prompts import ChatPromptTemplate\n",
        "\n",
        "template_travel = \"\"\"\n",
        "Answer the question based only on the following context: {context}\n",
        "Question: {question}\n",
        "\"\"\"\n",
        "prompt = ChatPromptTemplate.from_template(template_travel)\n",
        "print(prompt)"
      ]
    },
    {
      "cell_type": "code",
      "execution_count": 5,
      "metadata": {
        "id": "XpTTsys4BFr5"
      },
      "outputs": [],
      "source": [
        "from langchain_core.output_parsers import StrOutputParser\n",
        "from langchain_google_genai import ChatGoogleGenerativeAI\n",
        "\n",
        "llm = ChatGoogleGenerativeAI(model=\"gemini-1.5-flash\")\n",
        "\n",
        "def format_docs(docs):\n",
        "    return \"\\n\\n\".join(doc.page_content for doc in docs)\n",
        "\n",
        "qa_chain_travel = (\n",
        "    {\n",
        "        \"context\": lambda x: format_docs(retriever.invoke(x)),\n",
        "        \"question\": lambda x: x\n",
        "    }\n",
        "    | prompt\n",
        "    | llm\n",
        "    | StrOutputParser()\n",
        ")"
      ]
    },
    {
      "cell_type": "code",
      "execution_count": 6,
      "metadata": {
        "colab": {
          "base_uri": "https://localhost:8080/"
        },
        "id": "XNJqq15-O-hN",
        "outputId": "2fa4a094-2455-4307-8645-6f5958f81132"
      },
      "outputs": [
        {
          "name": "stdout",
          "output_type": "stream",
          "text": [
            "Travories is a travel booking platform connecting travelers with a wide variety of curated travel experiences.  Travel agencies list their tour packages on the platform, which tourists can then browse and book.  Tourists can search for packages based on destination, interests, duration, and budget, view details and reviews, and make secure bookings using various payment methods.  The platform is accessible 24/7.\n",
            "\n",
            "---\n",
            "Yes, the text states that travel agencies on Travories can create and list their tour packages.\n",
            "\n",
            "---\n",
            "Tourists can pay using major credit cards, debit cards, and popular online payment gateways.\n",
            "\n",
            "---\n",
            "Yes, Travories is accessible 24 hours a day, 7 days a week.\n"
          ]
        }
      ],
      "source": [
        "print(qa_chain_travel.invoke(\"What is Travories and how does it work?\"))\n",
        "print(\"\\n---\")\n",
        "print(qa_chain_travel.invoke(\"Can travel agencies list their packages?\"))\n",
        "print(\"\\n---\")\n",
        "print(qa_chain_travel.invoke(\"What are the ways tourists can pay?\"))\n",
        "print(\"\\n---\")\n",
        "print(qa_chain_travel.invoke(\"Is Travories open all the time?\"))"
      ]
    }
  ],
  "metadata": {
    "colab": {
      "provenance": []
    },
    "kernelspec": {
      "display_name": "venv",
      "language": "python",
      "name": "python3"
    },
    "language_info": {
      "codemirror_mode": {
        "name": "ipython",
        "version": 3
      },
      "file_extension": ".py",
      "mimetype": "text/x-python",
      "name": "python",
      "nbconvert_exporter": "python",
      "pygments_lexer": "ipython3",
      "version": "3.13.2"
    }
  },
  "nbformat": 4,
  "nbformat_minor": 0
}
