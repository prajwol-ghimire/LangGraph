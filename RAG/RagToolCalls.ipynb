{
 "cells": [
  {
   "cell_type": "code",
   "execution_count": 15,
   "metadata": {},
   "outputs": [],
   "source": [
    "from langchain.schema import Document\n",
    "from langchain_google_genai import GoogleGenerativeAIEmbeddings\n",
    "from langchain_community.vectorstores import Chroma\n",
    "\n",
    "embedding_function = GoogleGenerativeAIEmbeddings(model=\"models/embedding-001\")\n",
    "\n",
    "\n",
    "docs = [\n",
    "   Document(\n",
    "        page_content=\"Travories is a travel booking platform where travel agencies can create and list their tour packages. Tourists can browse and book these packages directly through the platform. Travories aims to connect travelers with a wide variety of curated travel experiences.\",\n",
    "        metadata={\"source\": \"overview.txt\"}\n",
    "    ),\n",
    "    Document(\n",
    "        page_content=\"Travories is accessible 24 hours a day, 7 days a week, allowing both agencies and tourists to use the platform at their convenience, regardless of their time zone.\",\n",
    "        metadata={\"source\": \"availability.txt\"}\n",
    "    ),\n",
    "    Document(\n",
    "        page_content=\"Travel agencies on Travories have the ability to create detailed descriptions of their tour packages, including itineraries, pricing, inclusions, and stunning visuals. They manage their own listings and availability.\",\n",
    "        metadata={\"source\": \"agency_features.txt\"}\n",
    "    ),\n",
    "    Document(\n",
    "        page_content=\"Tourists using Travories can search for travel packages based on destination, interests, duration, and budget. They can view package details, read reviews (if available), and securely book their chosen tours through the platform.\",\n",
    "        metadata={\"source\": \"tourist_features.txt\"}\n",
    "    ),\n",
    "    Document(\n",
    "        page_content=\"For any inquiries or support, users can contact Travories customer support via email at support@travories.com or through the live chat feature available on the website and mobile app.\",\n",
    "        metadata={\"source\": \"support.txt\"}\n",
    "    ),\n",
    "    Document(\n",
    "        page_content=\"Travories supports various payment methods, including major credit cards, debit cards, and popular online payment gateways, ensuring a seamless booking experience for tourists worldwide.\",\n",
    "        metadata={\"source\": \"payment.txt\"}\n",
    "    )\n",
    "]\n",
    "\n",
    "db = Chroma.from_documents(docs, embedding_function)\n"
   ]
  },
  {
   "cell_type": "code",
   "execution_count": 16,
   "metadata": {},
   "outputs": [],
   "source": [
    "retriever = db.as_retriever(search_type=\"mmr\", search_kwargs = {\"k\": 3})\n"
   ]
  },
  {
   "cell_type": "code",
   "execution_count": 17,
   "metadata": {},
   "outputs": [],
   "source": [
    "from langchain.tools.retriever import create_retriever_tool\n",
    "from langchain_core.tools import tool\n",
    "\n",
    "retriever_tool = create_retriever_tool(\n",
    "    retriever,\n",
    "    \"retriever_tool\",\n",
    "    \"Information related to Travories' Overview, Platform Availability, Travel Agency Features, Tourist Features, Customer Support, and Payment Options.\"\n",
    ")\n",
    "\n",
    "\n",
    "\n",
    "@tool\n",
    "def off_topic():\n",
    "    \"\"\"Catch all questions NOT related to Travories' overview, platform availability, travel agency tools, tourist features, customer support, or payment methods.\"\"\"\n",
    "    return \"Forbidden - do not respond to the user\"\n",
    "\n",
    "\n",
    "tools = [retriever_tool, off_topic]"
   ]
  },
  {
   "cell_type": "code",
   "execution_count": 18,
   "metadata": {},
   "outputs": [],
   "source": [
    "from typing import Annotated,Sequence, Literal, TypedDict\n",
    "from langchain_core.messages import BaseMessage\n",
    "from langgraph.graph.message import add_messages\n",
    "\n",
    "\n",
    "class AgentState(TypedDict):\n",
    "    messages: Annotated[Sequence[BaseMessage], add_messages]"
   ]
  },
  {
   "cell_type": "code",
   "execution_count": 20,
   "metadata": {},
   "outputs": [],
   "source": [
    "from langchain_core.messages import HumanMessage\n",
    "from langchain_openai import ChatOpenAI\n",
    "from langchain_google_genai import ChatGoogleGenerativeAI\n",
    "from langgraph.graph import END, StateGraph, START\n",
    "\n",
    "\n",
    "def agent(state):\n",
    "    messages = state[\"messages\"]\n",
    "    model = ChatGoogleGenerativeAI(model=\"gemini-1.5-flash\")\n",
    "    model = model.bind_tools(tools)\n",
    "    response = model.invoke(messages)\n",
    "    return {\"messages\": [response]}\n",
    "\n",
    "\n",
    "def should_continue(state) -> Literal[\"tools\", END]:\n",
    "    messages = state[\"messages\"]\n",
    "    last_message = messages[-1]\n",
    "    if last_message.tool_calls:\n",
    "        return \"tools\"\n",
    "    return END"
   ]
  },
  {
   "cell_type": "code",
   "execution_count": 21,
   "metadata": {},
   "outputs": [],
   "source": [
    "from langgraph.graph import END, StateGraph, START\n",
    "from langgraph.prebuilt import ToolNode\n",
    "\n",
    "workflow = StateGraph(AgentState)\n",
    "\n",
    "workflow.add_node(\"agent\", agent)\n",
    "\n",
    "tool_node = ToolNode(tools)\n",
    "workflow.add_node(\"tools\", tool_node)\n",
    "workflow.add_edge(START, \"agent\")\n",
    "workflow.add_conditional_edges(\n",
    "    \"agent\",\n",
    "    should_continue,\n",
    ")\n",
    "workflow.add_edge(\"tools\", \"agent\")\n",
    "\n",
    "graph = workflow.compile()"
   ]
  },
  {
   "cell_type": "code",
   "execution_count": 22,
   "metadata": {},
   "outputs": [
    {
     "data": {
      "image/png": "[encoded data removed]",
      "text/plain": [
       "<IPython.core.display.Image object>"
      ]
     },
     "metadata": {},
     "output_type": "display_data"
    }
   ],
   "source": [
    "from IPython.display import Image, display\n",
    "from langchain_core.runnables.graph import MermaidDrawMethod\n",
    "\n",
    "display(\n",
    "    Image(\n",
    "        graph.get_graph().draw_mermaid_png(\n",
    "            draw_method=MermaidDrawMethod.API,\n",
    "        )\n",
    "    )\n",
    ")"
   ]
  },
  {
   "cell_type": "code",
   "execution_count": 23,
   "metadata": {},
   "outputs": [
    {
     "data": {
      "text/plain": [
       "{'messages': [HumanMessage(content='How will the weather be tommorrow?', additional_kwargs={}, response_metadata={}, id='731ac633-0844-4fe5-9214-4f6d5f3e17e1'),\n",
       "  AIMessage(content='', additional_kwargs={'function_call': {'name': 'off_topic', 'arguments': '{}'}}, response_metadata={'prompt_feedback': {'block_reason': 0, 'safety_ratings': []}, 'finish_reason': 'STOP', 'safety_ratings': []}, id='run--8f4fc604-536a-405d-b274-abd0ceb1851e-0', tool_calls=[{'name': 'off_topic', 'args': {}, 'id': '0904db06-31dc-4e1b-87ce-1efa2e4a7b82', 'type': 'tool_call'}], usage_metadata={'input_tokens': 78, 'output_tokens': 3, 'total_tokens': 81, 'input_token_details': {'cache_read': 0}}),\n",
       "  ToolMessage(content='Forbidden - do not respond to the user', name='off_topic', id='839a9049-a33f-41a3-aa84-92d831b2de5c', tool_call_id='0904db06-31dc-4e1b-87ce-1efa2e4a7b82'),\n",
       "  AIMessage(content='I am sorry, I cannot answer this question.  My knowledge about weather is limited.', additional_kwargs={}, response_metadata={'prompt_feedback': {'block_reason': 0, 'safety_ratings': []}, 'finish_reason': 'STOP', 'safety_ratings': []}, id='run--b372f722-9268-4270-a891-6926ccec2c09-0', usage_metadata={'input_tokens': 93, 'output_tokens': 19, 'total_tokens': 112, 'input_token_details': {'cache_read': 0}})]}"
      ]
     },
     "execution_count": 23,
     "metadata": {},
     "output_type": "execute_result"
    }
   ],
   "source": [
    "graph.invoke(\n",
    "    input={\"messages\": [HumanMessage(content=\"How will the weather be tommorrow?\")]}\n",
    ")"
   ]
  },
  {
   "cell_type": "code",
   "execution_count": 24,
   "metadata": {},
   "outputs": [
    {
     "data": {
      "text/plain": [
       "{'messages': [HumanMessage(content='Is Travories open all the time?', additional_kwargs={}, response_metadata={}, id='0fa7fda3-9d3e-446a-848b-d2a9f683bdc7'),\n",
       "  AIMessage(content='', additional_kwargs={'function_call': {'name': 'retriever_tool', 'arguments': '{\"query\": \"Travories\\'s platform availability\"}'}}, response_metadata={'prompt_feedback': {'block_reason': 0, 'safety_ratings': []}, 'finish_reason': 'STOP', 'safety_ratings': []}, id='run--3ab735b6-e224-4a9d-9bfa-c55afb5f9ad1-0', tool_calls=[{'name': 'retriever_tool', 'args': {'query': \"Travories's platform availability\"}, 'id': 'bce439d4-c5ea-4922-86db-1db1ad808f43', 'type': 'tool_call'}], usage_metadata={'input_tokens': 78, 'output_tokens': 11, 'total_tokens': 89, 'input_token_details': {'cache_read': 0}}),\n",
       "  ToolMessage(content='Travories is accessible 24 hours a day, 7 days a week, allowing both agencies and tourists to use the platform at their convenience, regardless of their time zone.\\n\\nFor any inquiries or support, users can contact Travories customer support via email at support@travories.com or through the live chat feature available on the website and mobile app.\\n\\nPeak Performance Gym was founded in 2015 by former Olympic athlete Marcus Chen. With over 15 years of experience in professional athletics, Marcus established the gym to provide personalized fitness solutions for people of all levels. The gym spans 10,000 square feet and features state-of-the-art equipment.', name='retriever_tool', id='d21082ab-e481-4967-8169-cd9b6230fe13', tool_call_id='bce439d4-c5ea-4922-86db-1db1ad808f43'),\n",
       "  AIMessage(content='Yes, Travories is accessible 24/7.  You can contact support via email or live chat if you have any questions.', additional_kwargs={}, response_metadata={'prompt_feedback': {'block_reason': 0, 'safety_ratings': []}, 'finish_reason': 'STOP', 'safety_ratings': []}, id='run--dceacb22-a964-470a-a477-beb6f6ec2a3e-0', usage_metadata={'input_tokens': 236, 'output_tokens': 29, 'total_tokens': 265, 'input_token_details': {'cache_read': 0}})]}"
      ]
     },
     "execution_count": 24,
     "metadata": {},
     "output_type": "execute_result"
    }
   ],
   "source": [
    "graph.invoke(input={\n",
    "    \"messages\": [HumanMessage(content=\"Is Travories open all the time?\")]\n",
    "})"
   ]
  }
 ],
 "metadata": {
  "kernelspec": {
   "display_name": "venv",
   "language": "python",
   "name": "python3"
  },
  "language_info": {
   "codemirror_mode": {
    "name": "ipython",
    "version": 3
   },
   "file_extension": ".py",
   "mimetype": "text/x-python",
   "name": "python",
   "nbconvert_exporter": "python",
   "pygments_lexer": "ipython3",
   "version": "3.13.2"
  }
 },
 "nbformat": 4,
 "nbformat_minor": 2
}
