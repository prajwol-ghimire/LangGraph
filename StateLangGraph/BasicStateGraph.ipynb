{
  "cells": [
    {
      "cell_type": "code",
      "execution_count": null,
      "metadata": {
        "colab": {
          "base_uri": "https://localhost:8080/"
        },
        "collapsed": true,
        "id": "8C0JMwN0Eq8b",
        "outputId": "122b3b63-0908-438e-cedb-02cdfa58d7ed"
      },
      "outputs": [],
      "source": [
        "!pip install langgraph"
      ]
    },
    {
      "cell_type": "code",
      "execution_count": 3,
      "metadata": {
        "id": "vpijYDrBDYvL"
      },
      "outputs": [],
      "source": [
        "from typing import TypedDict\n",
        "from langgraph.graph import END, StateGraph"
      ]
    },
    {
      "cell_type": "code",
      "execution_count": 4,
      "metadata": {
        "id": "EFKBvfDeEwgI"
      },
      "outputs": [],
      "source": [
        "class SimpleState(TypedDict):\n",
        "    count: int\n",
        "\n",
        "\n",
        "def increment(state: SimpleState) -> SimpleState:\n",
        "    return {\n",
        "        \"count\": state[\"count\"] + 1\n",
        "    }"
      ]
    },
    {
      "cell_type": "code",
      "execution_count": 14,
      "metadata": {
        "id": "lxMuZv_LEznX"
      },
      "outputs": [],
      "source": [
        "def should_continue(state):\n",
        "    if(state[\"count\"] < 5):\n",
        "        return \"continue\"\n",
        "    else:\n",
        "        return \"stop\""
      ]
    },
    {
      "cell_type": "code",
      "execution_count": null,
      "metadata": {
        "colab": {
          "base_uri": "https://localhost:8080/"
        },
        "collapsed": true,
        "id": "IcQ3QwYTFrU8",
        "outputId": "03037db7-8334-4b62-fc78-4b35fa200436"
      },
      "outputs": [],
      "source": [
        "!pip install grandalf"
      ]
    },
    {
      "cell_type": "code",
      "execution_count": 21,
      "metadata": {
        "colab": {
          "base_uri": "https://localhost:8080/"
        },
        "id": "ATRZH-a_E15c",
        "outputId": "cc54aa01-4fc2-4991-8fcb-035d968e855d"
      },
      "outputs": [
        {
          "name": "stdout",
          "output_type": "stream",
          "text": [
            "---\n",
            "config:\n",
            "  flowchart:\n",
            "    curve: linear\n",
            "---\n",
            "graph TD;\n",
            "\t__start__([<p>__start__</p>]):::first\n",
            "\tincrement(increment)\n",
            "\t__end__([<p>__end__</p>]):::last\n",
            "\t__start__ --> increment;\n",
            "\tincrement -. &nbsp;stop&nbsp; .-> __end__;\n",
            "\tincrement -. &nbsp;continue&nbsp; .-> increment;\n",
            "\tclassDef default fill:#f2f0ff,line-height:1.2\n",
            "\tclassDef first fill-opacity:0\n",
            "\tclassDef last fill:#bfb6fc\n",
            "\n",
            "{'count': 5}\n"
          ]
        }
      ],
      "source": [
        "graph = StateGraph(SimpleState)\n",
        "\n",
        "graph.add_node(\"increment\", increment)\n",
        "\n",
        "graph.set_entry_point(\"increment\")\n",
        "\n",
        "graph.add_conditional_edges(\n",
        "    \"increment\",\n",
        "    should_continue,\n",
        "    {\n",
        "        \"continue\": \"increment\",\n",
        "        \"stop\": END\n",
        "    }\n",
        ")\n",
        "\n",
        "\n",
        "app = graph.compile()\n",
        "\n",
        "print(app.get_graph().draw_mermaid())\n",
        "\n",
        "state = {\n",
        "    \"count\": 0\n",
        "}\n",
        "\n",
        "result = app.invoke(state)\n",
        "print(result)"
      ]
    }
  ],
  "metadata": {
    "colab": {
      "provenance": []
    },
    "kernelspec": {
      "display_name": "Python 3",
      "name": "python3"
    },
    "language_info": {
      "name": "python"
    }
  },
  "nbformat": 4,
  "nbformat_minor": 0
}
