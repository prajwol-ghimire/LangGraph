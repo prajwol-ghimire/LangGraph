{
  "cells": [
    {
      "cell_type": "code",
      "execution_count": 2,
      "metadata": {
        "id": "Mk_mCo3JhEQm"
      },
      "outputs": [
        {
          "name": "stdout",
          "output_type": "stream",
          "text": [
            "Requirement already satisfied: pydantic in /Users/prajwol/Documents/travories-geolocation/LangGraph/venv/lib/python3.12/site-packages (2.11.4)\n",
            "Requirement already satisfied: annotated-types>=0.6.0 in /Users/prajwol/Documents/travories-geolocation/LangGraph/venv/lib/python3.12/site-packages (from pydantic) (0.7.0)\n",
            "Requirement already satisfied: pydantic-core==2.33.2 in /Users/prajwol/Documents/travories-geolocation/LangGraph/venv/lib/python3.12/site-packages (from pydantic) (2.33.2)\n",
            "Requirement already satisfied: typing-extensions>=4.12.2 in /Users/prajwol/Documents/travories-geolocation/LangGraph/venv/lib/python3.12/site-packages (from pydantic) (4.13.2)\n",
            "Requirement already satisfied: typing-inspection>=0.4.0 in /Users/prajwol/Documents/travories-geolocation/LangGraph/venv/lib/python3.12/site-packages (from pydantic) (0.4.0)\n",
            "\n",
            "\u001b[1m[\u001b[0m\u001b[34;49mnotice\u001b[0m\u001b[1;39;49m]\u001b[0m\u001b[39;49m A new release of pip is available: \u001b[0m\u001b[31;49m25.0.1\u001b[0m\u001b[39;49m -> \u001b[0m\u001b[32;49m25.1\u001b[0m\n",
            "\u001b[1m[\u001b[0m\u001b[34;49mnotice\u001b[0m\u001b[1;39;49m]\u001b[0m\u001b[39;49m To update, run: \u001b[0m\u001b[32;49mpip install --upgrade pip\u001b[0m\n",
            "Note: you may need to restart the kernel to use updated packages.\n"
          ]
        }
      ],
      "source": [
        "!pip install pydantic"
      ]
    },
    {
      "cell_type": "code",
      "execution_count": 3,
      "metadata": {
        "id": "y55OA0VkhJz-"
      },
      "outputs": [
        {
          "name": "stdout",
          "output_type": "stream",
          "text": [
            "zsh:1: /Users/prajwol/Documents/travories-geolocation/LangGraph/venv/bin/pip: bad interpreter: /Users/prajwol/Documents/travories-geolocation/LangGraph/GraphVisulaization/venv/bin/python3.12: no such file or directory\n",
            "Collecting langchain_openai\n",
            "  Using cached langchain_openai-0.3.14-py3-none-any.whl.metadata (2.3 kB)\n",
            "Collecting langchain-core<1.0.0,>=0.3.53 (from langchain_openai)\n",
            "  Using cached langchain_core-0.3.56-py3-none-any.whl.metadata (5.9 kB)\n",
            "Requirement already satisfied: openai<2.0.0,>=1.68.2 in /Users/prajwol/Documents/travories-geolocation/CrewAI-Server/env/lib/python3.12/site-packages (from langchain_openai) (1.76.2)\n",
            "Requirement already satisfied: tiktoken<1,>=0.7 in /Users/prajwol/Documents/travories-geolocation/CrewAI-Server/env/lib/python3.12/site-packages (from langchain_openai) (0.9.0)\n",
            "Collecting langsmith<0.4,>=0.1.125 (from langchain-core<1.0.0,>=0.3.53->langchain_openai)\n",
            "  Using cached langsmith-0.3.39-py3-none-any.whl.metadata (15 kB)\n",
            "Requirement already satisfied: tenacity!=8.4.0,<10.0.0,>=8.1.0 in /Users/prajwol/Documents/travories-geolocation/CrewAI-Server/env/lib/python3.12/site-packages (from langchain-core<1.0.0,>=0.3.53->langchain_openai) (9.1.2)\n",
            "Collecting jsonpatch<2.0,>=1.33 (from langchain-core<1.0.0,>=0.3.53->langchain_openai)\n",
            "  Using cached jsonpatch-1.33-py2.py3-none-any.whl.metadata (3.0 kB)\n",
            "Requirement already satisfied: PyYAML>=5.3 in /Users/prajwol/Documents/travories-geolocation/CrewAI-Server/env/lib/python3.12/site-packages (from langchain-core<1.0.0,>=0.3.53->langchain_openai) (6.0.2)\n",
            "Collecting packaging<25,>=23.2 (from langchain-core<1.0.0,>=0.3.53->langchain_openai)\n",
            "  Using cached packaging-24.2-py3-none-any.whl.metadata (3.2 kB)\n",
            "Requirement already satisfied: typing-extensions>=4.7 in /Users/prajwol/Documents/travories-geolocation/CrewAI-Server/env/lib/python3.12/site-packages (from langchain-core<1.0.0,>=0.3.53->langchain_openai) (4.13.2)\n",
            "Requirement already satisfied: pydantic<3.0.0,>=2.7.4 in /Users/prajwol/Documents/travories-geolocation/CrewAI-Server/env/lib/python3.12/site-packages (from langchain-core<1.0.0,>=0.3.53->langchain_openai) (2.11.4)\n",
            "Requirement already satisfied: anyio<5,>=3.5.0 in /Users/prajwol/Documents/travories-geolocation/CrewAI-Server/env/lib/python3.12/site-packages (from openai<2.0.0,>=1.68.2->langchain_openai) (4.9.0)\n",
            "Requirement already satisfied: distro<2,>=1.7.0 in /Users/prajwol/Documents/travories-geolocation/CrewAI-Server/env/lib/python3.12/site-packages (from openai<2.0.0,>=1.68.2->langchain_openai) (1.9.0)\n",
            "Requirement already satisfied: httpx<1,>=0.23.0 in /Users/prajwol/Documents/travories-geolocation/CrewAI-Server/env/lib/python3.12/site-packages (from openai<2.0.0,>=1.68.2->langchain_openai) (0.28.1)\n",
            "Requirement already satisfied: jiter<1,>=0.4.0 in /Users/prajwol/Documents/travories-geolocation/CrewAI-Server/env/lib/python3.12/site-packages (from openai<2.0.0,>=1.68.2->langchain_openai) (0.8.2)\n",
            "Requirement already satisfied: sniffio in /Users/prajwol/Documents/travories-geolocation/CrewAI-Server/env/lib/python3.12/site-packages (from openai<2.0.0,>=1.68.2->langchain_openai) (1.3.1)\n",
            "Requirement already satisfied: tqdm>4 in /Users/prajwol/Documents/travories-geolocation/CrewAI-Server/env/lib/python3.12/site-packages (from openai<2.0.0,>=1.68.2->langchain_openai) (4.67.1)\n",
            "Requirement already satisfied: regex>=2022.1.18 in /Users/prajwol/Documents/travories-geolocation/CrewAI-Server/env/lib/python3.12/site-packages (from tiktoken<1,>=0.7->langchain_openai) (2024.11.6)\n",
            "Requirement already satisfied: requests>=2.26.0 in /Users/prajwol/Documents/travories-geolocation/CrewAI-Server/env/lib/python3.12/site-packages (from tiktoken<1,>=0.7->langchain_openai) (2.32.3)\n",
            "Requirement already satisfied: idna>=2.8 in /Users/prajwol/Documents/travories-geolocation/CrewAI-Server/env/lib/python3.12/site-packages (from anyio<5,>=3.5.0->openai<2.0.0,>=1.68.2->langchain_openai) (3.10)\n",
            "Requirement already satisfied: certifi in /Users/prajwol/Documents/travories-geolocation/CrewAI-Server/env/lib/python3.12/site-packages (from httpx<1,>=0.23.0->openai<2.0.0,>=1.68.2->langchain_openai) (2025.4.26)\n",
            "Requirement already satisfied: httpcore==1.* in /Users/prajwol/Documents/travories-geolocation/CrewAI-Server/env/lib/python3.12/site-packages (from httpx<1,>=0.23.0->openai<2.0.0,>=1.68.2->langchain_openai) (1.0.9)\n",
            "Requirement already satisfied: h11>=0.16 in /Users/prajwol/Documents/travories-geolocation/CrewAI-Server/env/lib/python3.12/site-packages (from httpcore==1.*->httpx<1,>=0.23.0->openai<2.0.0,>=1.68.2->langchain_openai) (0.16.0)\n",
            "Collecting jsonpointer>=1.9 (from jsonpatch<2.0,>=1.33->langchain-core<1.0.0,>=0.3.53->langchain_openai)\n",
            "  Using cached jsonpointer-3.0.0-py2.py3-none-any.whl.metadata (2.3 kB)\n",
            "Requirement already satisfied: orjson<4.0.0,>=3.9.14 in /Users/prajwol/Documents/travories-geolocation/CrewAI-Server/env/lib/python3.12/site-packages (from langsmith<0.4,>=0.1.125->langchain-core<1.0.0,>=0.3.53->langchain_openai) (3.10.18)\n",
            "Collecting requests-toolbelt<2.0.0,>=1.0.0 (from langsmith<0.4,>=0.1.125->langchain-core<1.0.0,>=0.3.53->langchain_openai)\n",
            "  Using cached requests_toolbelt-1.0.0-py2.py3-none-any.whl.metadata (14 kB)\n",
            "Collecting zstandard<0.24.0,>=0.23.0 (from langsmith<0.4,>=0.1.125->langchain-core<1.0.0,>=0.3.53->langchain_openai)\n",
            "  Using cached zstandard-0.23.0-cp312-cp312-macosx_11_0_arm64.whl.metadata (3.0 kB)\n",
            "Requirement already satisfied: annotated-types>=0.6.0 in /Users/prajwol/Documents/travories-geolocation/CrewAI-Server/env/lib/python3.12/site-packages (from pydantic<3.0.0,>=2.7.4->langchain-core<1.0.0,>=0.3.53->langchain_openai) (0.7.0)\n",
            "Requirement already satisfied: pydantic-core==2.33.2 in /Users/prajwol/Documents/travories-geolocation/CrewAI-Server/env/lib/python3.12/site-packages (from pydantic<3.0.0,>=2.7.4->langchain-core<1.0.0,>=0.3.53->langchain_openai) (2.33.2)\n",
            "Requirement already satisfied: typing-inspection>=0.4.0 in /Users/prajwol/Documents/travories-geolocation/CrewAI-Server/env/lib/python3.12/site-packages (from pydantic<3.0.0,>=2.7.4->langchain-core<1.0.0,>=0.3.53->langchain_openai) (0.4.0)\n",
            "Requirement already satisfied: charset-normalizer<4,>=2 in /Users/prajwol/Documents/travories-geolocation/CrewAI-Server/env/lib/python3.12/site-packages (from requests>=2.26.0->tiktoken<1,>=0.7->langchain_openai) (3.4.1)\n",
            "Requirement already satisfied: urllib3<3,>=1.21.1 in /Users/prajwol/Documents/travories-geolocation/CrewAI-Server/env/lib/python3.12/site-packages (from requests>=2.26.0->tiktoken<1,>=0.7->langchain_openai) (2.4.0)\n",
            "Using cached langchain_openai-0.3.14-py3-none-any.whl (62 kB)\n",
            "Using cached langchain_core-0.3.56-py3-none-any.whl (437 kB)\n",
            "Using cached jsonpatch-1.33-py2.py3-none-any.whl (12 kB)\n",
            "Using cached langsmith-0.3.39-py3-none-any.whl (359 kB)\n",
            "Using cached packaging-24.2-py3-none-any.whl (65 kB)\n",
            "Using cached jsonpointer-3.0.0-py2.py3-none-any.whl (7.6 kB)\n",
            "Using cached requests_toolbelt-1.0.0-py2.py3-none-any.whl (54 kB)\n",
            "Using cached zstandard-0.23.0-cp312-cp312-macosx_11_0_arm64.whl (633 kB)\n",
            "Installing collected packages: zstandard, packaging, jsonpointer, requests-toolbelt, jsonpatch, langsmith, langchain-core, langchain_openai\n",
            "  Attempting uninstall: packaging\n",
            "    Found existing installation: packaging 25.0\n",
            "    Uninstalling packaging-25.0:\n",
            "      Successfully uninstalled packaging-25.0\n",
            "Successfully installed jsonpatch-1.33 jsonpointer-3.0.0 langchain-core-0.3.56 langchain_openai-0.3.14 langsmith-0.3.39 packaging-24.2 requests-toolbelt-1.0.0 zstandard-0.23.0\n",
            "\n",
            "\u001b[1m[\u001b[0m\u001b[34;49mnotice\u001b[0m\u001b[1;39;49m]\u001b[0m\u001b[39;49m A new release of pip is available: \u001b[0m\u001b[31;49m25.0.1\u001b[0m\u001b[39;49m -> \u001b[0m\u001b[32;49m25.1\u001b[0m\n",
            "\u001b[1m[\u001b[0m\u001b[34;49mnotice\u001b[0m\u001b[1;39;49m]\u001b[0m\u001b[39;49m To update, run: \u001b[0m\u001b[32;49mpython3.12 -m pip install --upgrade pip\u001b[0m\n"
          ]
        }
      ],
      "source": [
        "!pip install langchain_openai"
      ]
    },
    {
      "cell_type": "code",
      "execution_count": 4,
      "metadata": {
        "id": "cllq_6RHh_uN"
      },
      "outputs": [
        {
          "name": "stdout",
          "output_type": "stream",
          "text": [
            "zsh:1: /Users/prajwol/Documents/travories-geolocation/LangGraph/venv/bin/pip: bad interpreter: /Users/prajwol/Documents/travories-geolocation/LangGraph/GraphVisulaization/venv/bin/python3.12: no such file or directory\n",
            "Collecting langchain_google_genai\n",
            "  Using cached langchain_google_genai-2.1.4-py3-none-any.whl.metadata (5.2 kB)\n",
            "Collecting filetype<2.0.0,>=1.2.0 (from langchain_google_genai)\n",
            "  Using cached filetype-1.2.0-py2.py3-none-any.whl.metadata (6.5 kB)\n",
            "Collecting google-ai-generativelanguage<0.7.0,>=0.6.18 (from langchain_google_genai)\n",
            "  Using cached google_ai_generativelanguage-0.6.18-py3-none-any.whl.metadata (9.8 kB)\n",
            "Requirement already satisfied: langchain-core<0.4.0,>=0.3.52 in /Users/prajwol/Documents/travories-geolocation/CrewAI-Server/env/lib/python3.12/site-packages (from langchain_google_genai) (0.3.56)\n",
            "Requirement already satisfied: pydantic<3,>=2 in /Users/prajwol/Documents/travories-geolocation/CrewAI-Server/env/lib/python3.12/site-packages (from langchain_google_genai) (2.11.4)\n",
            "Collecting google-api-core!=2.0.*,!=2.1.*,!=2.10.*,!=2.2.*,!=2.3.*,!=2.4.*,!=2.5.*,!=2.6.*,!=2.7.*,!=2.8.*,!=2.9.*,<3.0.0,>=1.34.1 (from google-api-core[grpc]!=2.0.*,!=2.1.*,!=2.10.*,!=2.2.*,!=2.3.*,!=2.4.*,!=2.5.*,!=2.6.*,!=2.7.*,!=2.8.*,!=2.9.*,<3.0.0,>=1.34.1->google-ai-generativelanguage<0.7.0,>=0.6.18->langchain_google_genai)\n",
            "  Using cached google_api_core-2.24.2-py3-none-any.whl.metadata (3.0 kB)\n",
            "Requirement already satisfied: google-auth!=2.24.0,!=2.25.0,<3.0.0,>=2.14.1 in /Users/prajwol/Documents/travories-geolocation/CrewAI-Server/env/lib/python3.12/site-packages (from google-ai-generativelanguage<0.7.0,>=0.6.18->langchain_google_genai) (2.39.0)\n",
            "Collecting proto-plus<2.0.0,>=1.22.3 (from google-ai-generativelanguage<0.7.0,>=0.6.18->langchain_google_genai)\n",
            "  Using cached proto_plus-1.26.1-py3-none-any.whl.metadata (2.2 kB)\n",
            "Requirement already satisfied: protobuf!=4.21.0,!=4.21.1,!=4.21.2,!=4.21.3,!=4.21.4,!=4.21.5,<7.0.0,>=3.20.2 in /Users/prajwol/Documents/travories-geolocation/CrewAI-Server/env/lib/python3.12/site-packages (from google-ai-generativelanguage<0.7.0,>=0.6.18->langchain_google_genai) (5.29.4)\n",
            "Requirement already satisfied: langsmith<0.4,>=0.1.125 in /Users/prajwol/Documents/travories-geolocation/CrewAI-Server/env/lib/python3.12/site-packages (from langchain-core<0.4.0,>=0.3.52->langchain_google_genai) (0.3.39)\n",
            "Requirement already satisfied: tenacity!=8.4.0,<10.0.0,>=8.1.0 in /Users/prajwol/Documents/travories-geolocation/CrewAI-Server/env/lib/python3.12/site-packages (from langchain-core<0.4.0,>=0.3.52->langchain_google_genai) (9.1.2)\n",
            "Requirement already satisfied: jsonpatch<2.0,>=1.33 in /Users/prajwol/Documents/travories-geolocation/CrewAI-Server/env/lib/python3.12/site-packages (from langchain-core<0.4.0,>=0.3.52->langchain_google_genai) (1.33)\n",
            "Requirement already satisfied: PyYAML>=5.3 in /Users/prajwol/Documents/travories-geolocation/CrewAI-Server/env/lib/python3.12/site-packages (from langchain-core<0.4.0,>=0.3.52->langchain_google_genai) (6.0.2)\n",
            "Requirement already satisfied: packaging<25,>=23.2 in /Users/prajwol/Documents/travories-geolocation/CrewAI-Server/env/lib/python3.12/site-packages (from langchain-core<0.4.0,>=0.3.52->langchain_google_genai) (24.2)\n",
            "Requirement already satisfied: typing-extensions>=4.7 in /Users/prajwol/Documents/travories-geolocation/CrewAI-Server/env/lib/python3.12/site-packages (from langchain-core<0.4.0,>=0.3.52->langchain_google_genai) (4.13.2)\n",
            "Requirement already satisfied: annotated-types>=0.6.0 in /Users/prajwol/Documents/travories-geolocation/CrewAI-Server/env/lib/python3.12/site-packages (from pydantic<3,>=2->langchain_google_genai) (0.7.0)\n",
            "Requirement already satisfied: pydantic-core==2.33.2 in /Users/prajwol/Documents/travories-geolocation/CrewAI-Server/env/lib/python3.12/site-packages (from pydantic<3,>=2->langchain_google_genai) (2.33.2)\n",
            "Requirement already satisfied: typing-inspection>=0.4.0 in /Users/prajwol/Documents/travories-geolocation/CrewAI-Server/env/lib/python3.12/site-packages (from pydantic<3,>=2->langchain_google_genai) (0.4.0)\n",
            "Requirement already satisfied: googleapis-common-protos<2.0.0,>=1.56.2 in /Users/prajwol/Documents/travories-geolocation/CrewAI-Server/env/lib/python3.12/site-packages (from google-api-core!=2.0.*,!=2.1.*,!=2.10.*,!=2.2.*,!=2.3.*,!=2.4.*,!=2.5.*,!=2.6.*,!=2.7.*,!=2.8.*,!=2.9.*,<3.0.0,>=1.34.1->google-api-core[grpc]!=2.0.*,!=2.1.*,!=2.10.*,!=2.2.*,!=2.3.*,!=2.4.*,!=2.5.*,!=2.6.*,!=2.7.*,!=2.8.*,!=2.9.*,<3.0.0,>=1.34.1->google-ai-generativelanguage<0.7.0,>=0.6.18->langchain_google_genai) (1.70.0)\n",
            "Requirement already satisfied: requests<3.0.0,>=2.18.0 in /Users/prajwol/Documents/travories-geolocation/CrewAI-Server/env/lib/python3.12/site-packages (from google-api-core!=2.0.*,!=2.1.*,!=2.10.*,!=2.2.*,!=2.3.*,!=2.4.*,!=2.5.*,!=2.6.*,!=2.7.*,!=2.8.*,!=2.9.*,<3.0.0,>=1.34.1->google-api-core[grpc]!=2.0.*,!=2.1.*,!=2.10.*,!=2.2.*,!=2.3.*,!=2.4.*,!=2.5.*,!=2.6.*,!=2.7.*,!=2.8.*,!=2.9.*,<3.0.0,>=1.34.1->google-ai-generativelanguage<0.7.0,>=0.6.18->langchain_google_genai) (2.32.3)\n",
            "Requirement already satisfied: grpcio<2.0dev,>=1.33.2 in /Users/prajwol/Documents/travories-geolocation/CrewAI-Server/env/lib/python3.12/site-packages (from google-api-core[grpc]!=2.0.*,!=2.1.*,!=2.10.*,!=2.2.*,!=2.3.*,!=2.4.*,!=2.5.*,!=2.6.*,!=2.7.*,!=2.8.*,!=2.9.*,<3.0.0,>=1.34.1->google-ai-generativelanguage<0.7.0,>=0.6.18->langchain_google_genai) (1.71.0)\n",
            "Collecting grpcio-status<2.0.dev0,>=1.33.2 (from google-api-core[grpc]!=2.0.*,!=2.1.*,!=2.10.*,!=2.2.*,!=2.3.*,!=2.4.*,!=2.5.*,!=2.6.*,!=2.7.*,!=2.8.*,!=2.9.*,<3.0.0,>=1.34.1->google-ai-generativelanguage<0.7.0,>=0.6.18->langchain_google_genai)\n",
            "  Using cached grpcio_status-1.72.0rc1-py3-none-any.whl.metadata (1.1 kB)\n",
            "Requirement already satisfied: cachetools<6.0,>=2.0.0 in /Users/prajwol/Documents/travories-geolocation/CrewAI-Server/env/lib/python3.12/site-packages (from google-auth!=2.24.0,!=2.25.0,<3.0.0,>=2.14.1->google-ai-generativelanguage<0.7.0,>=0.6.18->langchain_google_genai) (5.5.2)\n",
            "Requirement already satisfied: pyasn1-modules>=0.2.1 in /Users/prajwol/Documents/travories-geolocation/CrewAI-Server/env/lib/python3.12/site-packages (from google-auth!=2.24.0,!=2.25.0,<3.0.0,>=2.14.1->google-ai-generativelanguage<0.7.0,>=0.6.18->langchain_google_genai) (0.4.2)\n",
            "Requirement already satisfied: rsa<5,>=3.1.4 in /Users/prajwol/Documents/travories-geolocation/CrewAI-Server/env/lib/python3.12/site-packages (from google-auth!=2.24.0,!=2.25.0,<3.0.0,>=2.14.1->google-ai-generativelanguage<0.7.0,>=0.6.18->langchain_google_genai) (4.9.1)\n",
            "Requirement already satisfied: jsonpointer>=1.9 in /Users/prajwol/Documents/travories-geolocation/CrewAI-Server/env/lib/python3.12/site-packages (from jsonpatch<2.0,>=1.33->langchain-core<0.4.0,>=0.3.52->langchain_google_genai) (3.0.0)\n",
            "Requirement already satisfied: httpx<1,>=0.23.0 in /Users/prajwol/Documents/travories-geolocation/CrewAI-Server/env/lib/python3.12/site-packages (from langsmith<0.4,>=0.1.125->langchain-core<0.4.0,>=0.3.52->langchain_google_genai) (0.28.1)\n",
            "Requirement already satisfied: orjson<4.0.0,>=3.9.14 in /Users/prajwol/Documents/travories-geolocation/CrewAI-Server/env/lib/python3.12/site-packages (from langsmith<0.4,>=0.1.125->langchain-core<0.4.0,>=0.3.52->langchain_google_genai) (3.10.18)\n",
            "Requirement already satisfied: requests-toolbelt<2.0.0,>=1.0.0 in /Users/prajwol/Documents/travories-geolocation/CrewAI-Server/env/lib/python3.12/site-packages (from langsmith<0.4,>=0.1.125->langchain-core<0.4.0,>=0.3.52->langchain_google_genai) (1.0.0)\n",
            "Requirement already satisfied: zstandard<0.24.0,>=0.23.0 in /Users/prajwol/Documents/travories-geolocation/CrewAI-Server/env/lib/python3.12/site-packages (from langsmith<0.4,>=0.1.125->langchain-core<0.4.0,>=0.3.52->langchain_google_genai) (0.23.0)\n",
            "Collecting protobuf!=4.21.0,!=4.21.1,!=4.21.2,!=4.21.3,!=4.21.4,!=4.21.5,<7.0.0,>=3.20.2 (from google-ai-generativelanguage<0.7.0,>=0.6.18->langchain_google_genai)\n",
            "  Using cached protobuf-6.31.0rc2-cp39-abi3-macosx_10_9_universal2.whl.metadata (596 bytes)\n",
            "Collecting grpcio<2.0dev,>=1.33.2 (from google-api-core[grpc]!=2.0.*,!=2.1.*,!=2.10.*,!=2.2.*,!=2.3.*,!=2.4.*,!=2.5.*,!=2.6.*,!=2.7.*,!=2.8.*,!=2.9.*,<3.0.0,>=1.34.1->google-ai-generativelanguage<0.7.0,>=0.6.18->langchain_google_genai)\n",
            "  Using cached grpcio-1.72.0rc1-cp312-cp312-macosx_11_0_universal2.whl.metadata (3.8 kB)\n",
            "Requirement already satisfied: anyio in /Users/prajwol/Documents/travories-geolocation/CrewAI-Server/env/lib/python3.12/site-packages (from httpx<1,>=0.23.0->langsmith<0.4,>=0.1.125->langchain-core<0.4.0,>=0.3.52->langchain_google_genai) (4.9.0)\n",
            "Requirement already satisfied: certifi in /Users/prajwol/Documents/travories-geolocation/CrewAI-Server/env/lib/python3.12/site-packages (from httpx<1,>=0.23.0->langsmith<0.4,>=0.1.125->langchain-core<0.4.0,>=0.3.52->langchain_google_genai) (2025.4.26)\n",
            "Requirement already satisfied: httpcore==1.* in /Users/prajwol/Documents/travories-geolocation/CrewAI-Server/env/lib/python3.12/site-packages (from httpx<1,>=0.23.0->langsmith<0.4,>=0.1.125->langchain-core<0.4.0,>=0.3.52->langchain_google_genai) (1.0.9)\n",
            "Requirement already satisfied: idna in /Users/prajwol/Documents/travories-geolocation/CrewAI-Server/env/lib/python3.12/site-packages (from httpx<1,>=0.23.0->langsmith<0.4,>=0.1.125->langchain-core<0.4.0,>=0.3.52->langchain_google_genai) (3.10)\n",
            "Requirement already satisfied: h11>=0.16 in /Users/prajwol/Documents/travories-geolocation/CrewAI-Server/env/lib/python3.12/site-packages (from httpcore==1.*->httpx<1,>=0.23.0->langsmith<0.4,>=0.1.125->langchain-core<0.4.0,>=0.3.52->langchain_google_genai) (0.16.0)\n",
            "Requirement already satisfied: pyasn1<0.7.0,>=0.6.1 in /Users/prajwol/Documents/travories-geolocation/CrewAI-Server/env/lib/python3.12/site-packages (from pyasn1-modules>=0.2.1->google-auth!=2.24.0,!=2.25.0,<3.0.0,>=2.14.1->google-ai-generativelanguage<0.7.0,>=0.6.18->langchain_google_genai) (0.6.1)\n",
            "Requirement already satisfied: charset-normalizer<4,>=2 in /Users/prajwol/Documents/travories-geolocation/CrewAI-Server/env/lib/python3.12/site-packages (from requests<3.0.0,>=2.18.0->google-api-core!=2.0.*,!=2.1.*,!=2.10.*,!=2.2.*,!=2.3.*,!=2.4.*,!=2.5.*,!=2.6.*,!=2.7.*,!=2.8.*,!=2.9.*,<3.0.0,>=1.34.1->google-api-core[grpc]!=2.0.*,!=2.1.*,!=2.10.*,!=2.2.*,!=2.3.*,!=2.4.*,!=2.5.*,!=2.6.*,!=2.7.*,!=2.8.*,!=2.9.*,<3.0.0,>=1.34.1->google-ai-generativelanguage<0.7.0,>=0.6.18->langchain_google_genai) (3.4.1)\n",
            "Requirement already satisfied: urllib3<3,>=1.21.1 in /Users/prajwol/Documents/travories-geolocation/CrewAI-Server/env/lib/python3.12/site-packages (from requests<3.0.0,>=2.18.0->google-api-core!=2.0.*,!=2.1.*,!=2.10.*,!=2.2.*,!=2.3.*,!=2.4.*,!=2.5.*,!=2.6.*,!=2.7.*,!=2.8.*,!=2.9.*,<3.0.0,>=1.34.1->google-api-core[grpc]!=2.0.*,!=2.1.*,!=2.10.*,!=2.2.*,!=2.3.*,!=2.4.*,!=2.5.*,!=2.6.*,!=2.7.*,!=2.8.*,!=2.9.*,<3.0.0,>=1.34.1->google-ai-generativelanguage<0.7.0,>=0.6.18->langchain_google_genai) (2.4.0)\n",
            "Requirement already satisfied: sniffio>=1.1 in /Users/prajwol/Documents/travories-geolocation/CrewAI-Server/env/lib/python3.12/site-packages (from anyio->httpx<1,>=0.23.0->langsmith<0.4,>=0.1.125->langchain-core<0.4.0,>=0.3.52->langchain_google_genai) (1.3.1)\n",
            "Using cached langchain_google_genai-2.1.4-py3-none-any.whl (44 kB)\n",
            "Using cached filetype-1.2.0-py2.py3-none-any.whl (19 kB)\n",
            "Using cached google_ai_generativelanguage-0.6.18-py3-none-any.whl (1.4 MB)\n",
            "Using cached google_api_core-2.24.2-py3-none-any.whl (160 kB)\n",
            "Using cached proto_plus-1.26.1-py3-none-any.whl (50 kB)\n",
            "Using cached grpcio_status-1.72.0rc1-py3-none-any.whl (14 kB)\n",
            "Downloading protobuf-6.31.0rc2-cp39-abi3-macosx_10_9_universal2.whl (425 kB)\n",
            "Using cached grpcio-1.72.0rc1-cp312-cp312-macosx_11_0_universal2.whl (11.3 MB)\n",
            "Installing collected packages: filetype, protobuf, grpcio, proto-plus, grpcio-status, google-api-core, google-ai-generativelanguage, langchain_google_genai\n",
            "  Attempting uninstall: protobuf\n",
            "    Found existing installation: protobuf 5.29.4\n",
            "    Uninstalling protobuf-5.29.4:\n",
            "      Successfully uninstalled protobuf-5.29.4\n",
            "  Attempting uninstall: grpcio\n",
            "    Found existing installation: grpcio 1.71.0\n",
            "    Uninstalling grpcio-1.71.0:\n",
            "      Successfully uninstalled grpcio-1.71.0\n",
            "\u001b[31mERROR: pip's dependency resolver does not currently take into account all the packages that are installed. This behaviour is the source of the following dependency conflicts.\n",
            "opentelemetry-proto 1.32.1 requires protobuf<6.0,>=5.0, but you have protobuf 6.31.0rc2 which is incompatible.\u001b[0m\u001b[31m\n",
            "\u001b[0mSuccessfully installed filetype-1.2.0 google-ai-generativelanguage-0.6.18 google-api-core-2.24.2 grpcio-1.72.0rc1 grpcio-status-1.72.0rc1 langchain_google_genai-2.1.4 proto-plus-1.26.1 protobuf-6.31.0rc2\n",
            "\n",
            "\u001b[1m[\u001b[0m\u001b[34;49mnotice\u001b[0m\u001b[1;39;49m]\u001b[0m\u001b[39;49m A new release of pip is available: \u001b[0m\u001b[31;49m25.0.1\u001b[0m\u001b[39;49m -> \u001b[0m\u001b[32;49m25.1\u001b[0m\n",
            "\u001b[1m[\u001b[0m\u001b[34;49mnotice\u001b[0m\u001b[1;39;49m]\u001b[0m\u001b[39;49m To update, run: \u001b[0m\u001b[32;49mpython3.12 -m pip install --upgrade pip\u001b[0m\n"
          ]
        }
      ],
      "source": [
        "!pip install langchain_google_genai"
      ]
    },
    {
      "cell_type": "code",
      "execution_count": 5,
      "metadata": {
        "collapsed": true,
        "id": "obXvo1HGhLRW"
      },
      "outputs": [],
      "source": [
        "from pydantic import BaseModel, Field\n",
        "from langchain_openai import ChatOpenAI\n",
        "from langchain_google_genai import ChatGoogleGenerativeAI\n",
        "\n",
        "llm = ChatGoogleGenerativeAI(model=\"gemini-1.5-flash\")"
      ]
    },
    {
      "cell_type": "code",
      "execution_count": 6,
      "metadata": {
        "colab": {
          "base_uri": "https://localhost:8080/"
        },
        "id": "S7QbQP1Ikx_A",
        "outputId": "3b1e8cb8-efd1-4b88-95a1-d67e7872630f"
      },
      "outputs": [
        {
          "name": "stdout",
          "output_type": "stream",
          "text": [
            "Package Info:\n",
            " name='Nepal Summer Package' description='This package includes all the major tourist destinations in Nepal.' price=1000.0 duration=7 location='Nepal' features=['Kathmandu sightseeing', 'Pokhara sightseeing', 'Chitwan National Park safari']\n"
          ]
        }
      ],
      "source": [
        "# 1. Using Pydantic BaseModel\n",
        "\n",
        "class NepalPackageTour(BaseModel):\n",
        "\n",
        "    \"\"\"Information about a Nepal Package Tour\"\"\"\n",
        "\n",
        "    name: str = Field(description=\"Title of the Package\")\n",
        "    description: str = Field(description=\"Description of the Package\")\n",
        "    price: float = Field(description=\"Price of the Package\")\n",
        "    duration: int = Field(description=\"Duration of the Package\")\n",
        "    location: str = Field(description=\"Location of the Package\")\n",
        "    features: list[str] = Field(description=\"Features of the Package\")\n",
        "\n",
        "structured_llm_Package = llm.with_structured_output(NepalPackageTour)\n",
        "result_Package = structured_llm_Package.invoke(\"Give Me a Package to visit in nepal in this summer\")\n",
        "print(\"Package Info:\\n\", result_Package)"
      ]
    },
    {
      "cell_type": "code",
      "execution_count": 7,
      "metadata": {
        "colab": {
          "base_uri": "https://localhost:8080/"
        },
        "id": "n7PY1NAzk2FY",
        "outputId": "ea512b55-154b-4b10-acee-9e7d68805381"
      },
      "outputs": [
        {
          "data": {
            "text/plain": [
              "{'setup': 'Why are cats such bad dancers?',\n",
              " 'punchline': 'Why are cats such bad dancers? Because they have two left feet!'}"
            ]
          },
          "execution_count": 7,
          "metadata": {},
          "output_type": "execute_result"
        }
      ],
      "source": [
        "# 2. Using TypedDict with Annotated\n",
        "\n",
        "from typing_extensions import Annotated, TypedDict\n",
        "from typing import Optional\n",
        "\n",
        "class Joke(TypedDict):\n",
        "    \"\"\"Joke to tell user.\"\"\"\n",
        "\n",
        "    setup: Annotated[str, ..., \"The setup of the joke\"]\n",
        "\n",
        "    # Alternatively, we could have specified setup as:\n",
        "\n",
        "    # setup: str                    # no default, no description\n",
        "    # setup: Annotated[str, ...]    # no default, no description\n",
        "    # setup: Annotated[str, \"foo\"]  # default, no description\n",
        "\n",
        "    punchline: Annotated[str, ..., \"The punchline of the joke\"]\n",
        "    # rating: Annotated[int, ..., \"How funny the joke is, from 1 to 10\"]\n",
        "    rating: Annotated[Optional[int], None, \"How funny the joke is, from 1 to 10\"]\n",
        "\n",
        "\n",
        "structured_llm = llm.with_structured_output(Joke)\n",
        "\n",
        "structured_llm.invoke(\"Tell me a joke about cats\")"
      ]
    },
    {
      "cell_type": "code",
      "execution_count": 8,
      "metadata": {
        "colab": {
          "base_uri": "https://localhost:8080/"
        },
        "id": "lQNU9CHKnBrd",
        "outputId": "2a037815-283d-40cb-8542-a5f19a5010dd"
      },
      "outputs": [
        {
          "name": "stderr",
          "output_type": "stream",
          "text": [
            "Key 'parameters' is not supported in schema, ignoring\n"
          ]
        },
        {
          "name": "stdout",
          "output_type": "stream",
          "text": [
            "\n",
            "Joke (JSON Schema):\n",
            " {'rating': 7.0, 'setup': 'Why are cats such bad dancers?', 'punchline': 'Why are cats such bad dancers? Because they have two left feet!'}\n"
          ]
        }
      ],
      "source": [
        "json_schema = {\n",
        "    \"title\": \"joke\",\n",
        "    \"description\": \"Joke to tell user.\",\n",
        "    \"type\": \"object\",\n",
        "    \"properties\": {\n",
        "        \"setup\": {\n",
        "            \"type\": \"string\",\n",
        "            \"description\": \"The setup of the joke\",\n",
        "        },\n",
        "        \"punchline\": {\n",
        "            \"type\": \"string\",\n",
        "            \"description\": \"The punchline to the joke\",\n",
        "        },\n",
        "        \"rating\": {\n",
        "            \"type\": \"integer\",\n",
        "            \"description\": \"How funny the joke is, from 1 to 10\",\n",
        "            \"default\": None,\n",
        "        },\n",
        "    },\n",
        "    \"required\": [\"setup\", \"punchline\", \"rating\"],\n",
        "}\n",
        "\n",
        "structured_llm_joke_json = llm.with_structured_output(json_schema)\n",
        "result_joke_json = structured_llm_joke_json.invoke(\"Tell me a joke about cats\")\n",
        "print(\"\\nJoke (JSON Schema):\\n\", result_joke_json)"
      ]
    }
  ],
  "metadata": {
    "colab": {
      "provenance": []
    },
    "kernelspec": {
      "display_name": "venv",
      "language": "python",
      "name": "python3"
    },
    "language_info": {
      "codemirror_mode": {
        "name": "ipython",
        "version": 3
      },
      "file_extension": ".py",
      "mimetype": "text/x-python",
      "name": "python",
      "nbconvert_exporter": "python",
      "pygments_lexer": "ipython3",
      "version": "3.12.10"
    }
  },
  "nbformat": 4,
  "nbformat_minor": 0
}
