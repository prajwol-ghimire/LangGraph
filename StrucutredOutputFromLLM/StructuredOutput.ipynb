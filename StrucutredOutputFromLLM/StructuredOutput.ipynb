{
  "cells": [
    {
      "cell_type": "code",
      "execution_count": null,
      "metadata": {
        "id": "Mk_mCo3JhEQm"
      },
      "outputs": [],
      "source": [
        "!pip install pydantic"
      ]
    },
    {
      "cell_type": "code",
      "execution_count": null,
      "metadata": {
        "id": "y55OA0VkhJz-"
      },
      "outputs": [],
      "source": [
        "!pip install langchain_openai"
      ]
    },
    {
      "cell_type": "code",
      "execution_count": null,
      "metadata": {
        "id": "cllq_6RHh_uN"
      },
      "outputs": [],
      "source": [
        "!pip install langchain_google_genai"
      ]
    },
    {
      "cell_type": "code",
      "execution_count": 5,
      "metadata": {
        "collapsed": true,
        "id": "obXvo1HGhLRW"
      },
      "outputs": [],
      "source": [
        "from pydantic import BaseModel, Field\n",
        "from langchain_openai import ChatOpenAI\n",
        "from langchain_google_genai import ChatGoogleGenerativeAI\n",
        "\n",
        "llm = ChatGoogleGenerativeAI(model=\"gemini-1.5-flash\")"
      ]
    },
    {
      "cell_type": "code",
      "execution_count": 6,
      "metadata": {
        "colab": {
          "base_uri": "https://localhost:8080/"
        },
        "id": "S7QbQP1Ikx_A",
        "outputId": "3b1e8cb8-efd1-4b88-95a1-d67e7872630f"
      },
      "outputs": [
        {
          "name": "stdout",
          "output_type": "stream",
          "text": [
            "Package Info:\n",
            " name='Nepal Summer Package' description='This package includes all the major tourist destinations in Nepal.' price=1000.0 duration=7 location='Nepal' features=['Kathmandu sightseeing', 'Pokhara sightseeing', 'Chitwan National Park safari']\n"
          ]
        }
      ],
      "source": [
        "# 1. Using Pydantic BaseModel\n",
        "\n",
        "class NepalPackageTour(BaseModel):\n",
        "\n",
        "    \"\"\"Information about a Nepal Package Tour\"\"\"\n",
        "\n",
        "    name: str = Field(description=\"Title of the Package\")\n",
        "    description: str = Field(description=\"Description of the Package\")\n",
        "    price: float = Field(description=\"Price of the Package\")\n",
        "    duration: int = Field(description=\"Duration of the Package\")\n",
        "    location: str = Field(description=\"Location of the Package\")\n",
        "    features: list[str] = Field(description=\"Features of the Package\")\n",
        "\n",
        "structured_llm_Package = llm.with_structured_output(NepalPackageTour)\n",
        "result_Package = structured_llm_Package.invoke(\"Give Me a Package to visit in nepal in this summer\")\n",
        "print(\"Package Info:\\n\", result_Package)"
      ]
    },
    {
      "cell_type": "code",
      "execution_count": 7,
      "metadata": {
        "colab": {
          "base_uri": "https://localhost:8080/"
        },
        "id": "n7PY1NAzk2FY",
        "outputId": "ea512b55-154b-4b10-acee-9e7d68805381"
      },
      "outputs": [
        {
          "data": {
            "text/plain": [
              "{'setup': 'Why are cats such bad dancers?',\n",
              " 'punchline': 'Why are cats such bad dancers? Because they have two left feet!'}"
            ]
          },
          "execution_count": 7,
          "metadata": {},
          "output_type": "execute_result"
        }
      ],
      "source": [
        "# 2. Using TypedDict with Annotated\n",
        "\n",
        "from typing_extensions import Annotated, TypedDict\n",
        "from typing import Optional\n",
        "\n",
        "class Joke(TypedDict):\n",
        "    \"\"\"Joke to tell user.\"\"\"\n",
        "\n",
        "    setup: Annotated[str, ..., \"The setup of the joke\"]\n",
        "\n",
        "    # Alternatively, we could have specified setup as:\n",
        "\n",
        "    # setup: str                    # no default, no description\n",
        "    # setup: Annotated[str, ...]    # no default, no description\n",
        "    # setup: Annotated[str, \"foo\"]  # default, no description\n",
        "\n",
        "    punchline: Annotated[str, ..., \"The punchline of the joke\"]\n",
        "    # rating: Annotated[int, ..., \"How funny the joke is, from 1 to 10\"]\n",
        "    rating: Annotated[Optional[int], None, \"How funny the joke is, from 1 to 10\"]\n",
        "\n",
        "\n",
        "structured_llm = llm.with_structured_output(Joke)\n",
        "\n",
        "structured_llm.invoke(\"Tell me a joke about cats\")"
      ]
    },
    {
      "cell_type": "code",
      "execution_count": 8,
      "metadata": {
        "colab": {
          "base_uri": "https://localhost:8080/"
        },
        "id": "lQNU9CHKnBrd",
        "outputId": "2a037815-283d-40cb-8542-a5f19a5010dd"
      },
      "outputs": [
        {
          "name": "stderr",
          "output_type": "stream",
          "text": [
            "Key 'parameters' is not supported in schema, ignoring\n"
          ]
        },
        {
          "name": "stdout",
          "output_type": "stream",
          "text": [
            "\n",
            "Joke (JSON Schema):\n",
            " {'rating': 7.0, 'setup': 'Why are cats such bad dancers?', 'punchline': 'Why are cats such bad dancers? Because they have two left feet!'}\n"
          ]
        }
      ],
      "source": [
        "# 3. Using JSON Schema\n",
        "\n",
        "json_schema = {\n",
        "    \"title\": \"joke\",\n",
        "    \"description\": \"Joke to tell user.\",\n",
        "    \"type\": \"object\",\n",
        "    \"properties\": {\n",
        "        \"setup\": {\n",
        "            \"type\": \"string\",\n",
        "            \"description\": \"The setup of the joke\",\n",
        "        },\n",
        "        \"punchline\": {\n",
        "            \"type\": \"string\",\n",
        "            \"description\": \"The punchline to the joke\",\n",
        "        },\n",
        "        \"rating\": {\n",
        "            \"type\": \"integer\",\n",
        "            \"description\": \"How funny the joke is, from 1 to 10\",\n",
        "            \"default\": None,\n",
        "        },\n",
        "    },\n",
        "    \"required\": [\"setup\", \"punchline\", \"rating\"],\n",
        "}\n",
        "\n",
        "structured_llm_joke_json = llm.with_structured_output(json_schema)\n",
        "result_joke_json = structured_llm_joke_json.invoke(\"Tell me a joke about cats\")\n",
        "print(\"\\nJoke (JSON Schema):\\n\", result_joke_json)"
      ]
    }
  ],
  "metadata": {
    "colab": {
      "provenance": []
    },
    "kernelspec": {
      "display_name": "venv",
      "language": "python",
      "name": "python3"
    },
    "language_info": {
      "codemirror_mode": {
        "name": "ipython",
        "version": 3
      },
      "file_extension": ".py",
      "mimetype": "text/x-python",
      "name": "python",
      "nbconvert_exporter": "python",
      "pygments_lexer": "ipython3",
      "version": "3.13.2"
    }
  },
  "nbformat": 4,
  "nbformat_minor": 0
}
