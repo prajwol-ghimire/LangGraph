{
  "cells": [
    {
      "cell_type": "code",
      "execution_count": null,
      "metadata": {
        "colab": {
          "base_uri": "https://localhost:8080/"
        },
        "collapsed": true,
        "id": "VXbgjLO6gE8J",
        "outputId": "f4f25ae2-7e06-4f35-8501-79a72f070fc2"
      },
      "outputs": [],
      "source": [
        "!pip install langchain_google_genai"
      ]
    },
    {
      "cell_type": "code",
      "execution_count": null,
      "metadata": {
        "colab": {
          "base_uri": "https://localhost:8080/"
        },
        "collapsed": true,
        "id": "LPu0V8ETgpiQ",
        "outputId": "d4ea9935-eb1e-454d-d262-15818976e97c"
      },
      "outputs": [],
      "source": [
        "!pip install langchain_community"
      ]
    },
    {
      "cell_type": "code",
      "execution_count": 4,
      "metadata": {
        "colab": {
          "base_uri": "https://localhost:8080/"
        },
        "id": "3Tsl2hBrghyt",
        "outputId": "bf5d63a1-e814-497b-9a82-ec5aab0abf6f"
      },
      "outputs": [
        {
          "name": "stdout",
          "output_type": "stream",
          "text": [
            "\n",
            "\n",
            "\u001b[1m> Entering new AgentExecutor chain...\u001b[0m\n",
            "\u001b[32;1m\u001b[1;3mThought: I need to find the current Prime Minister of Nepal, calculate the number of days since they assumed office, determine my favorite ice cream flavor, and perform a simple addition.  I'll use different tools for each task.\n",
            "\n",
            "Action: tavily_search_results_json\n",
            "Action Input: \"current prime minister of Nepal\"\u001b[0m\n",
            "Observation: \u001b[36;1m\u001b[1;3m[{'title': 'Prime Minister of Nepal - Wikipedia', 'url': 'https://en.wikipedia.org/wiki/Prime_Minister_of_Nepal', 'content': 'Learn about the history and role of the prime minister of Nepal, the head of government of the federal democratic republic. The current prime minister is K. P. Sharma Oli of the CPN (UML), appointed by the president in 2024.', 'score': 0.94276565}, {'title': 'List of prime ministers of Nepal - Wikipedia', 'url': 'https://en.wikipedia.org/wiki/List_of_prime_ministers_of_Nepal', 'content': 'The position of the Prime Minister of Nepal (Nepali: नेपालको ... The current constitution was adopted on 20 September 2015, and the first prime minister under this new constitution was KP Sharma Oli. Heads of government of the Kingdom of Nepal (1768-2008)', 'score': 0.8775715}, {'title': \"Nepal's new prime minister has taken the oath of office at a ceremony ...\", 'url': 'https://apnews.com/article/nepal-politics-new-prime-minister-oli-bb44de6376ee099e5282f1040fdeebce', 'content': \"Nepal's newly appointed prime minister has taken the oath of office at a ceremony in Kathmandu. Khadga Prasad Oli, the leader of Nepal's largest communist party, was named prime minister on Sunday following the collapse of a previous coalition government.\", 'score': 0.87218446}, {'title': \"Leader of Nepal's largest communist party named new prime minister ...\", 'url': 'https://www.aljazeera.com/news/2024/7/14/leader-of-nepals-largest-communist-party-named-new-prime-minister', 'content': \"First elected as prime minister in 2015, Oli was re-elected in 2018 and reappointed briefly in 2021 in Nepal's parliament, which has seen several governments come and go in the past decade.\", 'score': 0.829285}, {'title': 'Home | Office of the Prime Minister and Council of Ministers', 'url': 'https://www.opmcm.gov.np/en/', 'content': 'Office of the Prime Minister and Council of Ministers Singhadurbar, Kathmandu, Nepal. Phone: +977-1-5971000, 5971001 P O Box No. 23312 E-Mail: info@opmcm.gov.np Google Plus Code: M8XF+6H Kathmandu, Nepal', 'score': 0.53968745}]\u001b[0m\n",
            "Thought:\u001b[32;1m\u001b[1;3mQuestion: Who is primeMinister of Nepal and how many days ago was that from this instant and what is my best icecream flavour also what is 51+4\n",
            "Thought: I need to find the current Prime Minister of Nepal, calculate the number of days since they assumed office, determine my favorite ice cream flavor, and perform a simple addition.  I'll use different tools for each task.\n",
            "\n",
            "Action: tavily_search_results_json\n",
            "Action Input: \"current prime minister of Nepal\"\u001b[0m\n",
            "Observation: \u001b[36;1m\u001b[1;3m[{'title': 'Prime Minister of Nepal - Wikipedia', 'url': 'https://en.wikipedia.org/wiki/Prime_Minister_of_Nepal', 'content': 'Learn about the history and role of the prime minister of Nepal, the head of government of the federal democratic republic. The current prime minister is K. P. Sharma Oli of the CPN (UML), appointed by the president in 2024.', 'score': 0.94276565}, {'title': 'List of prime ministers of Nepal - Wikipedia', 'url': 'https://en.wikipedia.org/wiki/List_of_prime_ministers_of_Nepal', 'content': 'The position of the Prime Minister of Nepal (Nepali: नेपालको ... The current constitution was adopted on 20 September 2015, and the first prime minister under this new constitution was KP Sharma Oli. Heads of government of the Kingdom of Nepal (1768-2008)', 'score': 0.8775715}, {'title': \"Nepal's new prime minister has taken the oath of office at a ceremony ...\", 'url': 'https://apnews.com/article/nepal-politics-new-prime-minister-oli-bb44de6376ee099e5282f1040fdeebce', 'content': \"Nepal's newly appointed prime minister has taken the oath of office at a ceremony in Kathmandu. Khadga Prasad Oli, the leader of Nepal's largest communist party, was named prime minister on Sunday following the collapse of a previous coalition government.\", 'score': 0.87218446}, {'title': 'K. P. Sharma Oli - Wikipedia', 'url': 'https://en.wikipedia.org/wiki/K._P._Sharma_Oli', 'content': '[81] [82] A cabinet meeting chaired by prime minister and party chairman KP Sharma Oli recommended the president to dissolve the House of Representatives on 22 May 2021 after members of his party led by former prime ministers Madhav Kumar Nepal and Jhala Nath Khanal supported Nepali Congress leader Sher Bahadur Deuba as the next prime minister.', 'score': 0.7548612}, {'title': 'Home | Office of the Prime Minister and Council of Ministers', 'url': 'https://www.opmcm.gov.np/en/', 'content': 'Office of the Prime Minister and Council of Ministers Singhadurbar, Kathmandu, Nepal. Phone: +977-1-5971000, 5971001 P O Box No. 23312 E-Mail: info@opmcm.gov.np Google Plus Code: M8XF+6H Kathmandu, Nepal', 'score': 0.53968745}]\u001b[0m\n",
            "Thought:\u001b[32;1m\u001b[1;3mQuestion: Who is primeMinister of Nepal and how many days ago was that from this instant and what is my best icecream flavour also what is 51+4\n",
            "Thought: I need to find the current Prime Minister of Nepal, calculate the number of days since they assumed office, determine my favorite ice cream flavor, and perform a simple addition.  I'll use different tools for each task.\n",
            "\n",
            "Action: tavily_search_results_json\n",
            "Action Input: \"current prime minister of Nepal\"\u001b[0m\n",
            "Observation: \u001b[36;1m\u001b[1;3m[{'title': 'Prime Minister of Nepal - Wikipedia', 'url': 'https://en.wikipedia.org/wiki/Prime_Minister_of_Nepal', 'content': 'Learn about the history and role of the prime minister of Nepal, the head of government of the federal democratic republic. The current prime minister is K. P. Sharma Oli of the CPN (UML), appointed by the president in 2024.', 'score': 0.94276565}, {'title': 'List of prime ministers of Nepal - Wikipedia', 'url': 'https://en.wikipedia.org/wiki/List_of_prime_ministers_of_Nepal', 'content': 'The position of the Prime Minister of Nepal (Nepali: नेपालको ... The current constitution was adopted on 20 September 2015, and the first prime minister under this new constitution was KP Sharma Oli. Heads of government of the Kingdom of Nepal (1768-2008)', 'score': 0.8775715}, {'title': \"Nepal's new prime minister has taken the oath of office at a ceremony ...\", 'url': 'https://apnews.com/article/nepal-politics-new-prime-minister-oli-bb44de6376ee099e5282f1040fdeebce', 'content': \"Nepal's newly appointed prime minister has taken the oath of office at a ceremony in Kathmandu. Khadga Prasad Oli, the leader of Nepal's largest communist party, was named prime minister on Sunday following the collapse of a previous coalition government.\", 'score': 0.87218446}, {'title': 'K. P. Sharma Oli - Wikipedia', 'url': 'https://en.wikipedia.org/wiki/K._P._Sharma_Oli', 'content': '[81] [82] A cabinet meeting chaired by prime minister and party chairman KP Sharma Oli recommended the president to dissolve the House of Representatives on 22 May 2021 after members of his party led by former prime ministers Madhav Kumar Nepal and Jhala Nath Khanal supported Nepali Congress leader Sher Bahadur Deuba as the next prime minister.', 'score': 0.7548612}, {'title': 'Council of Ministers | Office of the Prime Minister and Council of ...', 'url': 'https://www.opmcm.gov.np/en/cabinet/', 'content': 'Office of the Prime Minister and Council of Ministers Singhadurbar, Kathmandu, Nepal. Phone: +977-1-5971000, 5971001. P O Box No. 23312. E-Mail: info@opmcm.gov.np. Google Plus Code: M8XF+6H Kathmandu, Nepal', 'score': 0.48982134}]\u001b[0m\n",
            "Thought:\u001b[32;1m\u001b[1;3mThought: I need to find the current Prime Minister of Nepal, calculate the number of days since they assumed office, determine my favorite ice cream flavor, and perform a simple addition.  I'll use different tools for each task.  The provided search results don't give a precise date of appointment, so I'll have to approximate.\n",
            "\n",
            "Action: tavily_search_results_json\n",
            "Action Input: \"K.P. Sharma Oli appointment date as Prime Minister of Nepal\"\u001b[0m\n",
            "Observation: \u001b[36;1m\u001b[1;3m[{'title': \"K P Sharma Oli appointed Nepal's new Prime Minister\", 'url': 'https://www.thehindu.com/news/international/k-p-sharma-oli-appointed-nepals-new-prime-minister/article68403219.ece', 'content': \"K P Sharma Oli appointed as Nepal's Prime Minister for the third time, forming a new coalition government. ... Mr. Oli served as Nepal's Prime Minister from October 11, 2015, to August 3, 2016 and\", 'score': 0.86767644}, {'title': 'KP Sharma Oli Takes Oath As Nepal PM After Prachanda Loses Trust Vote', 'url': 'https://www.ndtv.com/world-news/k-p-sharma-oli-sworn-in-as-nepals-new-prime-minister-6108975', 'content': \"K P Sharma Oli on Monday was sworn in as Nepal's Prime Minister for the fourth time. ... He continued to serve from May 13, 2021, to July 13, 2021 -- because of an appointment by the then\", 'score': 0.8201387}, {'title': 'K. P. Sharma Oli - Wikipedia', 'url': 'https://en.wikipedia.org/wiki/K._P._Sharma_Oli', 'content': \"On 10 May 2021, Oli failed a vote of confidence with 93 of 232 in the House of Representatives, 43 below the 136 majority.[79][80] He then became a minority Prime Minister on 13 May 2021, when no opposition party formed a majority or claimed it in time.[81][82] A cabinet meeting chaired by prime minister and party chairman KP Sharma Oli recommended the president to dissolve the House of Representatives on 22 May 2021 after members of his party led by former prime ministers Madhav Kumar Nepal and Jhala Nath Khanal supported Nepali Congress leader Sher Bahadur Deuba as the next prime minister.[83][84] On 12 July 2021, the constitutional bench of the Supreme Court formed to hear the opposition's writs against the dissolution.\", 'score': 0.7701369}, {'title': 'KP Sharma Oli | Office of the Prime Minister and Council of Ministers', 'url': 'https://www.opmcm.gov.np/en/staff/kpsharmaoli/', 'content': 'KP Sharma Oli. Updated February 8 ... KP Sharma Oli <!- 23 February 1952: Born in Terhathum District, Eastern Nepal; as the eldest son of father Mohan Prasad and Mother Madhumaya Oli: 1963: ... Appointed the Deputy Prime Minister and Minister for Foreign Affairs in the interim government led by Prime Minister late G.P Koirala: April 2008', 'score': 0.7163977}, {'title': 'Oli becomes prime minister for fourth time, swearing-in today', 'url': 'https://kathmandupost.com/national/2024/07/14/president-appoints-kp-sharma-oli-prime-minister', 'content': \"Soon after the call from the President, 72-year-old Oli, accompanied by his new coalition partner Nepali Congress President Sher Bahadur Deuba, had reached the President's Office to stake a claim for the post of prime minister. With no other contender, Oli had submitted signatures of 166 lawmakers in his support (Congress' 88 and UML's 78).\", 'score': 0.35300484}]\u001b[0m\n",
            "Thought:\u001b[32;1m\u001b[1;3mThought:The search results mention several dates related to K.P. Sharma Oli's appointments as Prime Minister, but none definitively state his most recent appointment date.  I'll need to approximate the number of days. I will also get the current time, my favorite ice cream flavor, and calculate the sum.\n",
            "\n",
            "Action: get_system_time\n",
            "Action Input: '%Y-%m-%d'\u001b[0m\n",
            "Observation: \u001b[33;1m\u001b[1;3m'2025-05-05'\u001b[0m\n",
            "Thought:\u001b[32;1m\u001b[1;3mThought: I will approximate K.P. Sharma Oli's most recent appointment as July 14, 2024, based on news articles.  I'll calculate the days since then using the current date.  I'll also get my favorite ice cream flavor and calculate the sum.\n",
            "\n",
            "Action: CalculationTools\n",
            "Action Input: '2025-05-05 - 2024-07-14'\u001b[0m\n",
            "Observation: \u001b[36;1m\u001b[1;3m2025-05-05 - 2024-07-14\u001b[0m\n",
            "Thought:\u001b[32;1m\u001b[1;3mThought:The date calculation needs to be performed differently. I'll use an approximation.  I'll also get my favorite ice cream flavor and calculate the sum.\n",
            "\n",
            "Action: CalculationTools\n",
            "Action Input: '300'\u001b[0m\n",
            "Observation: \u001b[36;1m\u001b[1;3m300\u001b[0m\n",
            "Thought:\u001b[32;1m\u001b[1;3mThought: I will approximate the number of days between July 14, 2024 and May 5, 2025 as approximately 300 days.  I'll get my favorite ice cream flavor and calculate the sum.\n",
            "\n",
            "Action: my_IceCream_Flavour\n",
            "Action Input: 'Name'\u001b[0m\n",
            "Observation: \u001b[38;5;200m\u001b[1;3mVanilla\u001b[0m\n",
            "Thought:\u001b[32;1m\u001b[1;3mThought: I have the approximate number of days since K.P. Sharma Oli's appointment, my favorite ice cream flavor, and I need to perform the final addition.\n",
            "\n",
            "Action: CalculationTools\n",
            "Action Input: '51 + 4'\u001b[0m\n",
            "Observation: \u001b[36;1m\u001b[1;3m51 + 4\u001b[0m\n",
            "Thought:\u001b[32;1m\u001b[1;3mThought: I have all the necessary information.\n",
            "\n",
            "Final Answer: The current Prime Minister of Nepal is K.P. Sharma Oli.  Approximately 300 days have passed since his most recent appointment (approximated from available information). My favorite ice cream flavor is Vanilla.  51 + 4 = 55.\u001b[0m\n",
            "\n",
            "\u001b[1m> Finished chain.\u001b[0m\n"
          ]
        },
        {
          "data": {
            "text/plain": [
              "{'input': 'Who is primeMinister of Nepal and how many days ago was that from this instant and what is my best icecream flavour also what is 51+4',\n",
              " 'output': 'The current Prime Minister of Nepal is K.P. Sharma Oli.  Approximately 300 days have passed since his most recent appointment (approximated from available information). My favorite ice cream flavor is Vanilla.  51 + 4 = 55.'}"
            ]
          },
          "execution_count": 4,
          "metadata": {},
          "output_type": "execute_result"
        }
      ],
      "source": [
        "from langchain_google_genai import ChatGoogleGenerativeAI\n",
        "from langchain.agents import initialize_agent, tool\n",
        "from langchain_community.tools import TavilySearchResults\n",
        "import datetime\n",
        "\n",
        "\n",
        "llm = ChatGoogleGenerativeAI(model=\"gemini-1.5-flash\")\n",
        "\n",
        "search_tool = TavilySearchResults(search_depth=\"basic\")\n",
        "\n",
        "@tool\n",
        "def get_system_time(format: str = \"%Y-%m-%d %H:%M:%S\"):\n",
        "    \"\"\" Returns the current date and time in the specified format \"\"\"\n",
        "\n",
        "    current_time = datetime.datetime.now()\n",
        "    formatted_time = current_time.strftime(format)\n",
        "    return formatted_time\n",
        "\n",
        "@tool\n",
        "def my_IceCream_Flavour(format: str = \"Name\"):\n",
        "    \"\"\" Returns the best flavour of my icecream\"\"\"\n",
        "\n",
        "    return \"Vanilla\"\n",
        "\n",
        "@tool\n",
        "def CalculationTools(expression: str):\n",
        "    \"\"\"Evaluates a simple math expression like 'addition, subtraction, Multiply or divide' and returns the result\"\"\"\n",
        "\n",
        "    try:\n",
        "        result = eval(expression)\n",
        "        return result\n",
        "    except Exception as e:\n",
        "        return f\"Error evaluating expression: {e}\"\n",
        "\n",
        "\n",
        "\n",
        "tools = [search_tool, get_system_time, my_IceCream_Flavour, CalculationTools]\n",
        "\n",
        "agent = initialize_agent(tools=tools, llm=llm, agent=\"zero-shot-react-description\", verbose=True)\n",
        "\n",
        "agent.invoke(\"Who is primeMinister of Nepal and how many days ago was that from this instant and what is my best icecream flavour also what is 51+4\")\n"
      ]
    }
  ],
  "metadata": {
    "colab": {
      "provenance": []
    },
    "kernelspec": {
      "display_name": "venv",
      "language": "python",
      "name": "python3"
    },
    "language_info": {
      "codemirror_mode": {
        "name": "ipython",
        "version": 3
      },
      "file_extension": ".py",
      "mimetype": "text/x-python",
      "name": "python",
      "nbconvert_exporter": "python",
      "pygments_lexer": "ipython3",
      "version": "3.13.2"
    }
  },
  "nbformat": 4,
  "nbformat_minor": 0
}
