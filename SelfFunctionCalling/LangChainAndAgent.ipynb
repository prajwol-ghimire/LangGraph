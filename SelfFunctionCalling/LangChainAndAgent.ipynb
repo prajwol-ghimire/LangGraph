{
  "cells": [
    {
      "cell_type": "code",
      "execution_count": null,
      "metadata": {
        "colab": {
          "base_uri": "https://localhost:8080/"
        },
        "collapsed": true,
        "id": "VXbgjLO6gE8J",
        "outputId": "f4f25ae2-7e06-4f35-8501-79a72f070fc2"
      },
      "outputs": [],
      "source": [
        "!pip install langchain_google_genai"
      ]
    },
    {
      "cell_type": "code",
      "execution_count": null,
      "metadata": {
        "colab": {
          "base_uri": "https://localhost:8080/"
        },
        "collapsed": true,
        "id": "LPu0V8ETgpiQ",
        "outputId": "d4ea9935-eb1e-454d-d262-15818976e97c"
      },
      "outputs": [],
      "source": [
        "!pip install langchain_community"
      ]
    },
    {
      "cell_type": "code",
      "execution_count": null,
      "metadata": {
        "colab": {
          "base_uri": "https://localhost:8080/"
        },
        "id": "3Tsl2hBrghyt",
        "outputId": "bf5d63a1-e814-497b-9a82-ec5aab0abf6f"
      },
      "outputs": [
        {
          "name": "stdout",
          "output_type": "stream",
          "text": [
            "\n",
            "\n",
            "\u001b[1m> Entering new AgentExecutor chain...\u001b[0m\n",
            "\u001b[32;1m\u001b[1;3mThought: I need to find the current Prime Minister of Nepal, calculate the number of days since their appointment, get my favorite ice cream flavor, and perform a simple addition.  I'll use different tools for each subtask.\n",
            "\n",
            "Action: tavily_search_results_json\n",
            "Action Input: \"current prime minister of Nepal\"\u001b[0m\n",
            "Observation: \u001b[36;1m\u001b[1;3m[{'title': 'Prime Minister of Nepal - Wikipedia', 'url': 'https://en.wikipedia.org/wiki/Prime_Minister_of_Nepal', 'content': 'Learn about the history and role of the prime minister of Nepal, the head of government of the federal democratic republic. The current prime minister is K. P. Sharma Oli of the CPN (UML), appointed by the president in 2024.', 'score': 0.94276565}, {'title': 'List of prime ministers of Nepal - Wikipedia', 'url': 'https://en.wikipedia.org/wiki/List_of_prime_ministers_of_Nepal', 'content': 'The position of the Prime Minister of Nepal (Nepali: नेपालको ... The current constitution was adopted on 20 September 2015, and the first prime minister under this new constitution was KP Sharma Oli. Heads of government of the Kingdom of Nepal (1768-2008)', 'score': 0.8775715}, {'title': \"Nepal's new prime minister has taken the oath of office at a ceremony ...\", 'url': 'https://apnews.com/article/nepal-politics-new-prime-minister-oli-bb44de6376ee099e5282f1040fdeebce', 'content': \"Nepal's newly appointed prime minister has taken the oath of office at a ceremony in Kathmandu. Khadga Prasad Oli, the leader of Nepal's largest communist party, was named prime minister on Sunday following the collapse of a previous coalition government.\", 'score': 0.87218446}, {'title': \"Leader of Nepal's largest communist party named new prime minister ...\", 'url': 'https://www.aljazeera.com/news/2024/7/14/leader-of-nepals-largest-communist-party-named-new-prime-minister', 'content': \"First elected as prime minister in 2015, Oli was re-elected in 2018 and reappointed briefly in 2021 in Nepal's parliament, which has seen several governments come and go in the past decade.\", 'score': 0.829285}, {'title': 'New Prime Minister Is Named in Nepal After Government Collapses', 'url': 'https://www.nytimes.com/2024/07/14/world/asia/nepal-prime-minister-government.html', 'content': \"Nepal's president on Sunday appointed a new prime minister, the latest in a revolving door of leaders that has left the country of 30 million in a continuous state of political uncertainty.\", 'score': 0.62824833}]\u001b[0m\n",
            "Thought:\u001b[32;1m\u001b[1;3mQuestion: Who is primeMinister of Nepal and how many days ago was that from this instant and what is my best icecream flavour also what is 51+4\n",
            "Thought: I need to find the current Prime Minister of Nepal, calculate the number of days since their appointment, get my favorite ice cream flavor, and perform a simple addition.  I'll use different tools for each subtask.\n",
            "\n",
            "Action: tavily_search_results_json\n",
            "Action Input: \"current prime minister of Nepal\"\u001b[0m\n",
            "Observation: \u001b[36;1m\u001b[1;3m[{'title': 'Prime Minister of Nepal - Wikipedia', 'url': 'https://en.wikipedia.org/wiki/Prime_Minister_of_Nepal', 'content': 'Learn about the history and role of the prime minister of Nepal, the head of government of the federal democratic republic. The current prime minister is K. P. Sharma Oli of the CPN (UML), appointed by the president in 2024.', 'score': 0.94276565}, {'title': 'List of prime ministers of Nepal - Wikipedia', 'url': 'https://en.wikipedia.org/wiki/List_of_prime_ministers_of_Nepal', 'content': 'The position of the Prime Minister of Nepal (Nepali: नेपालको ... The current constitution was adopted on 20 September 2015, and the first prime minister under this new constitution was KP Sharma Oli. Heads of government of the Kingdom of Nepal (1768-2008)', 'score': 0.8775715}, {'title': \"Nepal's new prime minister has taken the oath of office at a ceremony ...\", 'url': 'https://apnews.com/article/nepal-politics-new-prime-minister-oli-bb44de6376ee099e5282f1040fdeebce', 'content': \"Nepal's newly appointed prime minister has taken the oath of office at a ceremony in Kathmandu. Khadga Prasad Oli, the leader of Nepal's largest communist party, was named prime minister on Sunday following the collapse of a previous coalition government.\", 'score': 0.87218446}, {'title': \"Leader of Nepal's largest communist party named new prime minister ...\", 'url': 'https://www.aljazeera.com/news/2024/7/14/leader-of-nepals-largest-communist-party-named-new-prime-minister', 'content': \"First elected as prime minister in 2015, Oli was re-elected in 2018 and reappointed briefly in 2021 in Nepal's parliament, which has seen several governments come and go in the past decade.\", 'score': 0.829285}, {'title': 'Council of Ministers | Office of the Prime Minister and Council of ...', 'url': 'https://www.opmcm.gov.np/en/cabinet/', 'content': 'Office of the Prime Minister and Council of Ministers Singhadurbar, Kathmandu, Nepal. Phone: +977-1-5971000, 5971001. P O Box No. 23312. E-Mail: info@opmcm.gov.np. Google Plus Code: M8XF+6H Kathmandu, Nepal', 'score': 0.48982134}]\u001b[0m\n",
            "Thought:\u001b[32;1m\u001b[1;3mQuestion: Who is primeMinister of Nepal and how many days ago was that from this instant and what is my best icecream flavour also what is 51+4\n",
            "Thought: I need to find the current Prime Minister of Nepal, calculate the number of days since their appointment, get my favorite ice cream flavor, and perform a simple addition.  I'll use different tools for each subtask.\n",
            "\n",
            "Action: tavily_search_results_json\n",
            "Action Input: \"current prime minister of Nepal appointment date\"\u001b[0m\n",
            "Observation: \u001b[36;1m\u001b[1;3m[{'title': 'Fourth Oli cabinet - Wikipedia', 'url': 'https://en.wikipedia.org/wiki/Fourth_Oli_cabinet', 'content': 'The Fourth Oli Cabinet is the current Government of Nepal, formed on 15 July 2024 after KP Sharma Oli was sworn in as the new Prime Minister of Nepal by president Ram Chandra Poudel. [1] [2] Oli was appointed prime minister as per Article 76(2) of the constitution, following the ouster of the government of Pushpa Kamal Dahal after a failed vote of confidence in the parliament on 12 July.', 'score': 0.87113565}, {'title': \"K P Sharma Oli appointed Nepal's new Prime Minister\", 'url': 'https://www.thehindu.com/news/international/k-p-sharma-oli-appointed-nepals-new-prime-minister/article68403219.ece', 'content': \"Mr. Oli served as Nepal's Prime Minister from October 11, 2015, to August 3, 2016 and then, from February 5, 2018, to July 13, 2021. Published - July 14, 2024 05:46 pm IST Read Comments\", 'score': 0.82795376}, {'title': \"Nepal's new prime minister has taken the oath of office at a ceremony ...\", 'url': 'https://apnews.com/article/nepal-politics-new-prime-minister-oli-bb44de6376ee099e5282f1040fdeebce', 'content': \"Nepal's newly elected Prime Minister Khadga Prasad Oli, left, and outgoing Prime Minister Pushpa Kamal Dahal, center, arrive for the oath of office in the Presidential residence in Kathmandu, Nepal, Monday, July 15, 2024. Oli, the leader of Nepal's largest communist party, was named prime minister on Sunday following the collapse of a\", 'score': 0.79637206}, {'title': 'List of prime ministers of Nepal - Wikipedia', 'url': 'https://en.wikipedia.org/wiki/List_of_prime_ministers_of_Nepal', 'content': 'The position of the Prime Minister of Nepal (Nepali: नेपालको ... The current constitution was adopted on 20 September 2015, and the first prime minister under this new constitution was KP Sharma Oli. Heads of government of the Kingdom of Nepal (1768-2008)', 'score': 0.75027883}, {'title': 'K. P. Sharma Oli - Wikipedia', 'url': 'https://en.wikipedia.org/wiki/K._P._Sharma_Oli', 'content': '[81] [82] A cabinet meeting chaired by prime minister and party chairman KP Sharma Oli recommended the president to dissolve the House of Representatives on 22 May 2021 after members of his party led by former prime ministers Madhav Kumar Nepal and Jhala Nath Khanal supported Nepali Congress leader Sher Bahadur Deuba as the next prime minister.', 'score': 0.56460327}]\u001b[0m\n",
            "Thought:\u001b[32;1m\u001b[1;3mThought:The observation shows K.P. Sharma Oli was appointed on July 15, 2024. I need to calculate the days since then, get my favorite ice cream flavor, and calculate 51 + 4.\n",
            "\n",
            "Action: get_system_time\n",
            "Action Input: '%Y-%m-%d'\u001b[0m\n",
            "Observation: \u001b[33;1m\u001b[1;3m'2025-04-30'\u001b[0m\n",
            "Thought:\u001b[32;1m\u001b[1;3mThought: I need to calculate the difference between today's date and July 15, 2024, get my favorite ice cream flavor, and calculate 51 + 4.  I'll use the date difference calculation, then the ice cream function, and finally the calculation tool.\n",
            "\n",
            "Action: CalculationTools\n",
            "Action Input: \"datetime.date(2025,4,30) - datetime.date(2024,7,15)\"\u001b[0m\n",
            "Observation: \u001b[36;1m\u001b[1;3m289 days, 0:00:00\u001b[0m\n",
            "Thought:\u001b[32;1m\u001b[1;3mThought: I have the number of days, now I need the ice cream flavor and the sum.\n",
            "\n",
            "Action: my_IceCream_Flavour\n",
            "Action Input: 'Name'\u001b[0m\n",
            "Observation: \u001b[38;5;200m\u001b[1;3mVanilla\u001b[0m\n",
            "Thought:\u001b[32;1m\u001b[1;3mThought: I have the number of days since K.P. Sharma Oli's appointment, my favorite ice cream flavor, and now I need to calculate 51 + 4.\n",
            "\n",
            "Action: CalculationTools\n",
            "Action Input: '51+4'\u001b[0m\n",
            "Observation: \u001b[36;1m\u001b[1;3m51+4\u001b[0m\n",
            "Thought:\u001b[32;1m\u001b[1;3mThought: I now have all the necessary information.\n",
            "\n",
            "Final Answer: The current Prime Minister of Nepal is K.P. Sharma Oli, appointed 289 days ago (as of 2025-04-30). My best ice cream flavor is Vanilla, and 51 + 4 = 55.\u001b[0m\n",
            "\n",
            "\u001b[1m> Finished chain.\u001b[0m\n"
          ]
        },
        {
          "data": {
            "text/plain": [
              "{'input': 'Who is primeMinister of Nepal and how many days ago was that from this instant and what is my best icecream flavour also what is 51+4',\n",
              " 'output': 'The current Prime Minister of Nepal is K.P. Sharma Oli, appointed 289 days ago (as of 2025-04-30). My best ice cream flavor is Vanilla, and 51 + 4 = 55.'}"
            ]
          },
          "execution_count": 32,
          "metadata": {},
          "output_type": "execute_result"
        }
      ],
      "source": [
        "from langchain_google_genai import ChatGoogleGenerativeAI\n",
        "from langchain.agents import initialize_agent, tool\n",
        "from langchain_community.tools import TavilySearchResults\n",
        "import datetime\n",
        "import os\n",
        "os.environ[\"TAVILY_API_KEY\"] = \"\"\n",
        "os.environ[\"GOOGLE_API_KEY\"] = \"\"\n",
        "\n",
        "llm = ChatGoogleGenerativeAI(model=\"gemini-1.5-flash\")\n",
        "\n",
        "search_tool = TavilySearchResults(search_depth=\"basic\")\n",
        "\n",
        "@tool\n",
        "def get_system_time(format: str = \"%Y-%m-%d %H:%M:%S\"):\n",
        "    \"\"\" Returns the current date and time in the specified format \"\"\"\n",
        "\n",
        "    current_time = datetime.datetime.now()\n",
        "    formatted_time = current_time.strftime(format)\n",
        "    return formatted_time\n",
        "\n",
        "@tool\n",
        "def my_IceCream_Flavour(format: str = \"Name\"):\n",
        "    \"\"\" Returns the best flavour of my icecream\"\"\"\n",
        "\n",
        "    return \"Vanilla\"\n",
        "\n",
        "@tool\n",
        "def CalculationTools(expression: str):\n",
        "    \"\"\"Evaluates a simple math expression like 'addition, subtraction, Multiply or divide' and returns the result\"\"\"\n",
        "\n",
        "    try:\n",
        "        result = eval(expression)\n",
        "        return result\n",
        "    except Exception as e:\n",
        "        return f\"Error evaluating expression: {e}\"\n",
        "\n",
        "\n",
        "\n",
        "tools = [search_tool, get_system_time, my_IceCream_Flavour, CalculationTools]\n",
        "\n",
        "agent = initialize_agent(tools=tools, llm=llm, agent=\"zero-shot-react-description\", verbose=True)\n",
        "\n",
        "agent.invoke(\"Who is primeMinister of Nepal and how many days ago was that from this instant and what is my best icecream flavour also what is 51+4\")\n"
      ]
    }
  ],
  "metadata": {
    "colab": {
      "provenance": []
    },
    "kernelspec": {
      "display_name": "Python 3",
      "name": "python3"
    },
    "language_info": {
      "name": "python"
    }
  },
  "nbformat": 4,
  "nbformat_minor": 0
}
